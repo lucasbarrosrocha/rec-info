{
 "cells": [
  {
   "cell_type": "markdown",
   "metadata": {},
   "source": [
    "## Recuperação da Informação\n",
    "####Professor: Leandro Balby\n",
    "####Aluno: Lucas Barros Rocha - 115111579"
   ]
  },
  {
   "cell_type": "code",
   "execution_count": 1,
   "metadata": {
    "collapsed": false
   },
   "outputs": [
    {
     "name": "stdout",
     "output_type": "stream",
     "text": [
      "[nltk_data] Downloading package stopwords to /home/lucas/nltk_data...\n",
      "[nltk_data]   Unzipping corpora/stopwords.zip.\n"
     ]
    }
   ],
   "source": [
    "#bibliotecas\n",
    "\n",
    "import pandas as pd\n",
    "import nltk\n",
    "from nltk.tokenize import RegexpTokenizer\n",
    "import collections\n",
    "import time\n",
    "import re\n",
    "import heapq\n",
    "\n",
    "nltk.download('stopwords')\n",
    "\n",
    "#palavras a serem desconsideradas\n",
    "tknz = RegexpTokenizer(r'(\\b[A-Za-z][a-z]{2,27}\\b)')\n",
    "stopwords = nltk.corpus.stopwords.words('portuguese')"
   ]
  },
  {
   "cell_type": "code",
   "execution_count": 2,
   "metadata": {
    "collapsed": true
   },
   "outputs": [],
   "source": [
    "result = pd.read_csv('https://raw.githubusercontent.com/lucasbarrosrocha/rec-info/master/dataframes/results.csv')"
   ]
  },
  {
   "cell_type": "code",
   "execution_count": 3,
   "metadata": {
    "collapsed": true
   },
   "outputs": [],
   "source": [
    "consultas = [\"brasil\", \"governo\", \"futebol\", \"economia\", \"cultura\"]"
   ]
  },
  {
   "cell_type": "code",
   "execution_count": 4,
   "metadata": {
    "collapsed": true
   },
   "outputs": [],
   "source": [
    "indices = {}\n",
    "n = 0\n",
    "\n",
    "for text in result.text:\n",
    "  palavras = [palavra for palavra in tknz.tokenize(text.lower())\n",
    "           if not bool(re.search(r'\\d', palavra))\n",
    "           and palavra not in stopwords and len(palavra) >= 3]  \n",
    "  n += 1\n",
    "  for t in palavras:\n",
    "    if t not in indices.keys():\n",
    "      indices[t] = []\n",
    "    indices[t].append(n)\n",
    "    \n",
    "for elem in indices.items():\n",
    "  d = dict(collections.Counter(elem[1]))\n",
    "  indices[elem[0]] = list(d.items())"
   ]
  }
 ],
 "metadata": {
  "anaconda-cloud": {},
  "kernelspec": {
   "display_name": "Python 3",
   "language": "python",
   "name": "python3"
  },
  "language_info": {
   "codemirror_mode": {
    "name": "ipython",
    "version": 2
   },
   "file_extension": ".py",
   "mimetype": "text/x-python",
   "name": "python",
   "nbconvert_exporter": "python",
   "pygments_lexer": "ipython2",
   "version": "2.7.16"
  }
 },
 "nbformat": 4,
 "nbformat_minor": 1
}
