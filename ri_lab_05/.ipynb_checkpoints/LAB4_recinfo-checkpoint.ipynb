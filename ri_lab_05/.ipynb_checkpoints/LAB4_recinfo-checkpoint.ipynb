{
 "cells": [
  {
   "cell_type": "markdown",
   "metadata": {},
   "source": [
    "## Recuperação da Informação\n",
    "#### Professor: Leandro Balby\n",
    "#### Aluno: Lucas Barros Rocha - 115111579"
   ]
  },
  {
   "cell_type": "code",
   "execution_count": 1,
   "metadata": {
    "collapsed": false
   },
   "outputs": [],
   "source": [
    "# #bibliotecas\n",
    "\n",
    "# import pandas as pd\n",
    "# import nltk\n",
    "# from nltk.tokenize import RegexpTokenizer\n",
    "# import collections\n",
    "# import time\n",
    "# import re\n",
    "# import heapq\n",
    "# import numpy as np\n",
    "# import bisect\n",
    "# import random\n",
    "\n",
    "# nltk.download('stopwords')\n",
    "\n",
    "# #palavras a serem desconsideradas\n",
    "# tknz = RegexpTokenizer(r'([A-Za-zÁáÉéÍíÓóÚúÃãÕõÇçÂâÊê]{3,27})')\n",
    "# stopwords = nltk.corpus.stopwords.words('portuguese')"
   ]
  },
  {
   "cell_type": "code",
   "execution_count": 2,
   "metadata": {
    "collapsed": false
   },
   "outputs": [],
   "source": [
    "# result = pd.read_csv('https://raw.githubusercontent.com/lucasbarrosrocha/rec-info/master/dataframes/results.csv')"
   ]
  },
  {
   "cell_type": "code",
   "execution_count": 3,
   "metadata": {
    "collapsed": true
   },
   "outputs": [],
   "source": [
    "# queries = [\"bolsonaro\", \"educação\", \"ministério\", \"brasil\", \"economia\"]\n"
   ]
  },
  {
   "cell_type": "code",
   "execution_count": 4,
   "metadata": {
    "collapsed": false
   },
   "outputs": [],
   "source": [
    "# indexes = {}\n",
    "# n = 0\n",
    "\n",
    "# for text in result.text:\n",
    "#   words = [word for word in tknz.tokenize(text.lower())\n",
    "#            if not bool(re.search(r'\\d', word))\n",
    "#            and word not in stopwords and len(word) >= 3]  \n",
    "#   n += 1\n",
    "#   for t in words:\n",
    "#     if t not in indexes.keys():\n",
    "#       indexes[t] = []\n",
    "#     indexes[t].append(n)\n",
    "    \n",
    "# for elem in indexes.items():\n",
    "#   d = dict(collections.Counter(elem[1]))\n",
    "#   indexes[elem[0]] = list(d.items())"
   ]
  },
  {
   "cell_type": "code",
   "execution_count": 5,
   "metadata": {
    "collapsed": true
   },
   "outputs": [],
   "source": [
    "\n",
    "# def n_docs_word(word, ranking):\n",
    "#   return len(ranking[word])\n",
    "\n",
    "# def n_docs_both(a, b, ranking):\n",
    "#   docs_a = [doc for doc,score in ranking[a]]\n",
    "#   docs_b = [doc for doc,score in ranking[b]]\n",
    "#   n = 0\n",
    "  \n",
    "#   for doc in docs_a:\n",
    "#     if doc in docs_b:\n",
    "#       n += 1\n",
    "      \n",
    "#   return n"
   ]
  },
  {
   "cell_type": "code",
   "execution_count": 6,
   "metadata": {
    "collapsed": true
   },
   "outputs": [],
   "source": [
    "# def calc_mim(a, b, ranking):\n",
    "#   n_a = n_docs_word(a, ranking)\n",
    "#   n_b = n_docs_word(b, ranking)\n",
    "#   n_ab = n_docs_both(a, b, ranking)\n",
    "#   quo = (n_a * n_b)\n",
    "#   mim = n_ab / quo if quo != 0 else 0\n",
    "#   return (mim,b)\n",
    "  \n",
    "# def calc_emim(a, b, ranking, n):\n",
    "#   n_a = n_docs_word(a, ranking)\n",
    "#   n_b = n_docs_word(b, ranking)\n",
    "#   n_ab = n_docs_both(a, b, ranking)\n",
    "#   quo = (n_a * n_b)\n",
    "#   exp = n * (n_ab / quo) if quo != 0 else 0\n",
    "#   emim = n_ab * np.log10(exp) if exp != 0 else 0\n",
    "#   return (emim, b)\n",
    "  \n",
    "# def calc_x(a, b, ranking, n):\n",
    "#   n_a = n_docs_word(a, ranking)\n",
    "#   n_b = n_docs_word(b, ranking)\n",
    "#   n_ab = n_docs_both(a, b, ranking)\n",
    "#   quo = (n_a * n_b)\n",
    "#   x = (n_ab - (1 / n) * n_a * n_b) ** 2 / quo if quo != 0 else 0\n",
    "#   return (x,b)\n",
    "  \n",
    "# def calc_dice(a, b, ranking):\n",
    "#   n_a = n_docs_word(a, ranking)\n",
    "#   n_b = n_docs_word(b, ranking)\n",
    "#   n_ab = n_docs_both(a, b, ranking)\n",
    "#   dice = n_ab / (n_a + n_b)\n",
    "#   return (dice,b)\n"
   ]
  },
  {
   "cell_type": "code",
   "execution_count": 7,
   "metadata": {
    "collapsed": true
   },
   "outputs": [],
   "source": [
    "# def create_metrics_table(query, ranking, n):\n",
    "#   top_10_table = pd.DataFrame()\n",
    "#   MIM = []\n",
    "#   EMIM = []\n",
    "#   X = []\n",
    "#   Dice = []\n",
    "  \n",
    "#   for word in ranking:\n",
    "#     if word != query:\n",
    "#       bisect.insort(MIM, calc_mim(query, word, ranking))\n",
    "#       bisect.insort(EMIM,calc_emim(query, word, ranking, n))\n",
    "#       bisect.insort(X,calc_x(query, word, ranking, n))\n",
    "#       bisect.insort(Dice,calc_dice(query, word, ranking))\n",
    "\n",
    "#   MIM.reverse()\n",
    "#   EMIM.reverse()\n",
    "#   X.reverse()\n",
    "#   Dice.reverse()\n",
    "  \n",
    "#   top_10_table['MIM'] = [word[1] for word in MIM[:10]]\n",
    "#   top_10_table['EMIM'] = [word[1] for word in EMIM[:10]]\n",
    "#   top_10_table['X²'] = [word[1] for word in X[:10]]\n",
    "#   top_10_table['Dice'] = [word[1] for word in Dice[:10]]\n",
    "  \n",
    "#   top_10_table.index += 1\n",
    "  \n",
    "#   return top_10_table"
   ]
  },
  {
   "cell_type": "code",
   "execution_count": 8,
   "metadata": {
    "collapsed": false
   },
   "outputs": [],
   "source": [
    "\n",
    "# n = result.text.count()\n",
    "# table_1 = create_metrics_table(queries[0], indexes, n)\n",
    "# table_2 = create_metrics_table(queries[1], indexes, n)\n",
    "# table_3 = create_metrics_table(queries[2], indexes, n)\n",
    "# table_4 = create_metrics_table(queries[3], indexes, n)\n",
    "# table_5 = create_metrics_table(queries[4], indexes, n)"
   ]
  },
  {
   "cell_type": "code",
   "execution_count": 9,
   "metadata": {
    "collapsed": false
   },
   "outputs": [],
   "source": [
    "# table_5\n",
    "\n"
   ]
  },
  {
   "cell_type": "code",
   "execution_count": 10,
   "metadata": {
    "collapsed": false
   },
   "outputs": [
    {
     "name": "stdout",
     "output_type": "stream",
     "text": [
      "[nltk_data] Downloading package punkt to /home/lucas/nltk_data...\n",
      "[nltk_data]   Package punkt is already up-to-date!\n",
      "[nltk_data] Downloading package rslp to /home/lucas/nltk_data...\n",
      "[nltk_data]   Package rslp is already up-to-date!\n",
      "[nltk_data] Downloading package stopwords to /home/lucas/nltk_data...\n",
      "[nltk_data]   Package stopwords is already up-to-date!\n"
     ]
    },
    {
     "data": {
      "text/html": [
       "<div>\n",
       "<table border=\"1\" class=\"dataframe\">\n",
       "  <thead>\n",
       "    <tr style=\"text-align: right;\">\n",
       "      <th></th>\n",
       "      <th>title</th>\n",
       "      <th>subtitle</th>\n",
       "      <th>author</th>\n",
       "      <th>date</th>\n",
       "      <th>section</th>\n",
       "      <th>text</th>\n",
       "      <th>url</th>\n",
       "    </tr>\n",
       "  </thead>\n",
       "  <tbody>\n",
       "    <tr>\n",
       "      <th>0</th>\n",
       "      <td>“A sociedade foi Rubens Paiva  não os facínora...</td>\n",
       "      <td>A decisão da juíza que proíbe as Forças Armada...</td>\n",
       "      <td>F. M.</td>\n",
       "      <td>30/03/2019 00:11:08</td>\n",
       "      <td>Brasil</td>\n",
       "      <td>A juíza federal Ivani Silva da Luz  de Brasíli...</td>\n",
       "      <td>https://brasil.elpais.com/brasil/2019/03/26/po...</td>\n",
       "    </tr>\n",
       "    <tr>\n",
       "      <th>1</th>\n",
       "      <td>Justiça suspende decisão que proibia Forças Ar...</td>\n",
       "      <td>Liminar havia sido concedida na sexta-feira a ...</td>\n",
       "      <td>Marina Rossi</td>\n",
       "      <td>30/03/2019 16:17:59</td>\n",
       "      <td>Brasil</td>\n",
       "      <td>Menos de 24 horas depois de a juíza federal Iv...</td>\n",
       "      <td>https://brasil.elpais.com/brasil/2019/03/30/po...</td>\n",
       "    </tr>\n",
       "    <tr>\n",
       "      <th>2</th>\n",
       "      <td>Governo Bolsonaro prega “negacionismo históric...</td>\n",
       "      <td>Marcos Napolitano  professor da USP  diz que o...</td>\n",
       "      <td>Regiane Oliveira</td>\n",
       "      <td>04/04/2019 22:37:48</td>\n",
       "      <td>Brasil</td>\n",
       "      <td>Quando  determinou que  de 31 de março 1964  u...</td>\n",
       "      <td>https://brasil.elpais.com/brasil/2019/04/05/po...</td>\n",
       "    </tr>\n",
       "    <tr>\n",
       "      <th>3</th>\n",
       "      <td>Quando os pais de Gabo perceberam que tinham u...</td>\n",
       "      <td>Gustavo Tatis percorre o universo de García Má...</td>\n",
       "      <td>Jesús Ruiz Mantilla</td>\n",
       "      <td>07/03/2019 16:38:56</td>\n",
       "      <td>Cultura</td>\n",
       "      <td>Quando  era pequeno   Luisa e  Gabriel se preo...</td>\n",
       "      <td>https://brasil.elpais.com/brasil/2019/03/06/cu...</td>\n",
       "    </tr>\n",
       "    <tr>\n",
       "      <th>4</th>\n",
       "      <td>Rádios canadenses banem músicas de Michael Jac...</td>\n",
       "      <td>Quebec Cogeco Media toma a decisão após queixa...</td>\n",
       "      <td>Jaime Porras Ferreyra</td>\n",
       "      <td>07/03/2019 16:12:37</td>\n",
       "      <td>Cultura</td>\n",
       "      <td>Desde a manhã da última segunda-feira     e   ...</td>\n",
       "      <td>https://brasil.elpais.com/brasil/2019/03/06/cu...</td>\n",
       "    </tr>\n",
       "  </tbody>\n",
       "</table>\n",
       "</div>"
      ],
      "text/plain": [
       "                                               title  \\\n",
       "0  “A sociedade foi Rubens Paiva  não os facínora...   \n",
       "1  Justiça suspende decisão que proibia Forças Ar...   \n",
       "2  Governo Bolsonaro prega “negacionismo históric...   \n",
       "3  Quando os pais de Gabo perceberam que tinham u...   \n",
       "4  Rádios canadenses banem músicas de Michael Jac...   \n",
       "\n",
       "                                            subtitle                 author  \\\n",
       "0  A decisão da juíza que proíbe as Forças Armada...                  F. M.   \n",
       "1  Liminar havia sido concedida na sexta-feira a ...           Marina Rossi   \n",
       "2  Marcos Napolitano  professor da USP  diz que o...       Regiane Oliveira   \n",
       "3  Gustavo Tatis percorre o universo de García Má...    Jesús Ruiz Mantilla   \n",
       "4  Quebec Cogeco Media toma a decisão após queixa...  Jaime Porras Ferreyra   \n",
       "\n",
       "                  date  section  \\\n",
       "0  30/03/2019 00:11:08   Brasil   \n",
       "1  30/03/2019 16:17:59   Brasil   \n",
       "2  04/04/2019 22:37:48   Brasil   \n",
       "3  07/03/2019 16:38:56  Cultura   \n",
       "4  07/03/2019 16:12:37  Cultura   \n",
       "\n",
       "                                                text  \\\n",
       "0  A juíza federal Ivani Silva da Luz  de Brasíli...   \n",
       "1  Menos de 24 horas depois de a juíza federal Iv...   \n",
       "2  Quando  determinou que  de 31 de março 1964  u...   \n",
       "3  Quando  era pequeno   Luisa e  Gabriel se preo...   \n",
       "4  Desde a manhã da última segunda-feira     e   ...   \n",
       "\n",
       "                                                 url  \n",
       "0  https://brasil.elpais.com/brasil/2019/03/26/po...  \n",
       "1  https://brasil.elpais.com/brasil/2019/03/30/po...  \n",
       "2  https://brasil.elpais.com/brasil/2019/04/05/po...  \n",
       "3  https://brasil.elpais.com/brasil/2019/03/06/cu...  \n",
       "4  https://brasil.elpais.com/brasil/2019/03/06/cu...  "
      ]
     },
     "execution_count": 10,
     "metadata": {},
     "output_type": "execute_result"
    }
   ],
   "source": [
    "import pandas as pd\n",
    "import collections\n",
    "import heapq\n",
    "import time\n",
    "import operator\n",
    "import csv\n",
    "import nltk\n",
    "import string\n",
    "import re\n",
    "import bisect\n",
    "import numpy as np\n",
    "from nltk.tokenize import RegexpTokenizer\n",
    "nltk.download('punkt')\n",
    "nltk.download('rslp')\n",
    "nltk.download('stopwords')\n",
    "\n",
    "data = pd.read_csv('https://raw.githubusercontent.com/frnangelim/RI_LAB04/master/results.csv') \n",
    "data.head()"
   ]
  },
  {
   "cell_type": "code",
   "execution_count": 11,
   "metadata": {
    "collapsed": true
   },
   "outputs": [],
   "source": [
    "queries = [\"presidente\", \"ministério\", \"bolsonaro\", \"país\", \"economia\"]"
   ]
  },
  {
   "cell_type": "code",
   "execution_count": 12,
   "metadata": {
    "collapsed": false
   },
   "outputs": [
    {
     "ename": "IndentationError",
     "evalue": "unindent does not match any outer indentation level (<ipython-input-12-49f600a9e150>, line 13)",
     "output_type": "error",
     "traceback": [
      "\u001b[0;36m  File \u001b[0;32m\"<ipython-input-12-49f600a9e150>\"\u001b[0;36m, line \u001b[0;32m13\u001b[0m\n\u001b[0;31m    return n\u001b[0m\n\u001b[0m            ^\u001b[0m\n\u001b[0;31mIndentationError\u001b[0m\u001b[0;31m:\u001b[0m unindent does not match any outer indentation level\n"
     ]
    }
   ],
   "source": [
    "def n_docs_word(word, ranking):\n",
    "    return len(ranking[word])\n",
    "\n",
    "def n_docs_both(a, b, ranking):\n",
    "    docs_a = [doc for doc,score in ranking[a]]\n",
    "    docs_b = [doc for doc,score in ranking[b]]\n",
    "    n = 0\n",
    "  \n",
    "    for doc in docs_a:\n",
    "        if doc in docs_b:\n",
    "            n += 1\n",
    "      \n",
    "    return n"
   ]
  },
  {
   "cell_type": "code",
   "execution_count": null,
   "metadata": {
    "collapsed": true
   },
   "outputs": [],
   "source": [
    "def metrica_mim(a, b, ranking):\n",
    "    n_a = n_docs_word(a, ranking)\n",
    "    n_b = n_docs_word(b, ranking)\n",
    "    n_ab = n_docs_both(a, b, ranking)\n",
    "    quo = (n_a * n_b)\n",
    "    mim = n_ab / quo if quo != 0 else 0\n",
    "    return (mim,b)\n",
    "  \n",
    "def metrica_emim(a, b, ranking, n):\n",
    "    n_a = n_docs_word(a, ranking)\n",
    "    n_b = n_docs_word(b, ranking)\n",
    "    n_ab = n_docs_both(a, b, ranking)\n",
    "    quo = (n_a * n_b)\n",
    "    exp = n * (n_ab / quo) if quo != 0 else 0\n",
    "    emim = n_ab * np.log10(exp) if exp != 0 else 0\n",
    "    return (emim, b)\n",
    "  \n",
    "def metrica_x(a, b, ranking, n):\n",
    "    n_a = n_docs_word(a, ranking)\n",
    "    n_b = n_docs_word(b, ranking)\n",
    "    n_ab = n_docs_both(a, b, ranking)\n",
    "    quo = (n_a * n_b)\n",
    "    x = (n_ab - (1 / n) * n_a * n_b) ** 2 / quo if quo != 0 else 0\n",
    "    return (x,b)\n",
    "  \n",
    "def metrica_dice(a, b, ranking):\n",
    "    n_a = n_docs_word(a, ranking)\n",
    "    n_b = n_docs_word(b, ranking)\n",
    "    n_ab = n_docs_both(a, b, ranking)\n",
    "    dice = n_ab / (n_a + n_b)\n",
    "    return (dice,b)"
   ]
  },
  {
   "cell_type": "code",
   "execution_count": null,
   "metadata": {
    "collapsed": false
   },
   "outputs": [],
   "source": [
    "tknz = RegexpTokenizer(r'([A-Za-zÁáÉéÍíÓóÚúÃãÕõÇçÂâÊê]{3,27})')\n",
    "stopwords = nltk.corpus.stopwords.words('portuguese') \n",
    "indexes = {}\n",
    "n = 0\n",
    "\n",
    "for text in data.text:\n",
    "    words = [word for word in tknz.tokenize(text.lower())\n",
    "           if not bool(re.search(r'\\d', word))\n",
    "           and word not in stopwords and len(word) >= 3]  \n",
    "    n += 1\n",
    "    for t in words:\n",
    "    if t not in indexes.keys():\n",
    "        indexes[t] = []\n",
    "    indexes[t].append(n)\n",
    "    \n",
    "for elem in indexes.items():\n",
    "    d = dict(collections.Counter(elem[1]))\n",
    "    indexes[elem[0]] = list(d.items())"
   ]
  },
  {
   "cell_type": "code",
   "execution_count": null,
   "metadata": {
    "collapsed": true
   },
   "outputs": [],
   "source": [
    "def create_table(query, ranking, n):\n",
    "    top_10_table = pd.DataFrame()\n",
    "    MIM = []\n",
    "    EMIM = []\n",
    "    X = []\n",
    "    Dice = []\n",
    "\n",
    "    for word in ranking:\n",
    "    if word != query:\n",
    "        bisect.insort(MIM, metrica_mim(query, word, ranking))\n",
    "        bisect.insort(EMIM,metrica_emim(query, word, ranking, n))\n",
    "        bisect.insort(X,metrica_x(query, word, ranking, n))\n",
    "        bisect.insort(Dice,metrica_dice(query, word, ranking))\n",
    "\n",
    "    MIM.reverse()\n",
    "    EMIM.reverse()\n",
    "    X.reverse()\n",
    "    Dice.reverse()\n",
    "\n",
    "    top_10_table['MIM'] = [word[1] for word in MIM[:10]]\n",
    "    top_10_table['EMIM'] = [word[1] for word in EMIM[:10]]\n",
    "    top_10_table['X²'] = [word[1] for word in X[:10]]\n",
    "    top_10_table['Dice'] = [word[1] for word in Dice[:10]]\n",
    "\n",
    "    top_10_table.index += 1\n",
    "\n",
    "    return top_10_table"
   ]
  },
  {
   "cell_type": "code",
   "execution_count": null,
   "metadata": {
    "collapsed": true
   },
   "outputs": [],
   "source": [
    "n = data.text.count()\n",
    "table_1 = create_table(queries[0], indexes, n)\n",
    "table_2 = create_table(queries[1], indexes, n)\n",
    "table_3 = create_table(queries[2], indexes, n)\n",
    "table_4 = create_table(queries[3], indexes, n)\n",
    "table_5 = create_table(queries[4], indexes, n)"
   ]
  },
  {
   "cell_type": "code",
   "execution_count": null,
   "metadata": {
    "collapsed": false
   },
   "outputs": [],
   "source": [
    "table_1"
   ]
  },
  {
   "cell_type": "code",
   "execution_count": null,
   "metadata": {
    "collapsed": false
   },
   "outputs": [],
   "source": [
    "table_2"
   ]
  },
  {
   "cell_type": "code",
   "execution_count": null,
   "metadata": {
    "collapsed": false
   },
   "outputs": [],
   "source": [
    "table_3"
   ]
  },
  {
   "cell_type": "code",
   "execution_count": null,
   "metadata": {
    "collapsed": false
   },
   "outputs": [],
   "source": [
    "table_4"
   ]
  },
  {
   "cell_type": "code",
   "execution_count": null,
   "metadata": {
    "collapsed": false
   },
   "outputs": [],
   "source": [
    "table_5"
   ]
  },
  {
   "cell_type": "code",
   "execution_count": null,
   "metadata": {
    "collapsed": true
   },
   "outputs": [],
   "source": []
  },
  {
   "cell_type": "code",
   "execution_count": null,
   "metadata": {
    "collapsed": true
   },
   "outputs": [],
   "source": []
  },
  {
   "cell_type": "code",
   "execution_count": null,
   "metadata": {
    "collapsed": true
   },
   "outputs": [],
   "source": []
  }
 ],
 "metadata": {
  "anaconda-cloud": {},
  "kernelspec": {
   "display_name": "Python 3",
   "language": "python",
   "name": "python3"
  },
  "language_info": {
   "codemirror_mode": {
    "name": "ipython",
    "version": 2
   },
   "file_extension": ".py",
   "mimetype": "text/x-python",
   "name": "python",
   "nbconvert_exporter": "python",
   "pygments_lexer": "ipython2",
   "version": "2.7.16"
  }
 },
 "nbformat": 4,
 "nbformat_minor": 1
}
