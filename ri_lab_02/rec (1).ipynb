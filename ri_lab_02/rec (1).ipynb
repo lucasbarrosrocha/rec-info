{
 "cells": [
  {
   "cell_type": "code",
   "execution_count": null,
   "metadata": {
    "collapsed": false
   },
   "outputs": [],
   "source": [
    "import pandas as pd\n",
    "import numpy as np\n",
    "from collections import Counter\n"
   ]
  },
  {
   "cell_type": "markdown",
   "metadata": {},
   "source": [
    "### Estatísticas da Coleção e Lei de Zipf"
   ]
  },
  {
   "cell_type": "markdown",
   "metadata": {},
   "source": [
    "Dados acerca dos artigos obtidos no lab passado."
   ]
  },
  {
   "cell_type": "code",
   "execution_count": null,
   "metadata": {
    "collapsed": true
   },
   "outputs": [],
   "source": [
    "artigos = pd.read_csv('./results.csv')"
   ]
  },
  {
   "cell_type": "markdown",
   "metadata": {},
   "source": [
    "1. Reproduza a tabela 4.1 do livro texto calculando as estatísticas para sua coleção."
   ]
  },
  {
   "cell_type": "code",
   "execution_count": null,
   "metadata": {
    "collapsed": false
   },
   "outputs": [],
   "source": [
    "# df.shape returns the shape of the data frame in the form of a tuple (no. of rows, no. of cols).\n",
    "\n",
    "total_documentos = artigos.shape[0]\n",
    "todas_palavras = []\n",
    "\n",
    "total_palavras = {}\n",
    "ocorrencia = {}\n",
    "\n",
    "for index, row in artigos.iterrows():\n",
    "    formatted_palavras= []\n",
    "    text = row['text'].lower()\n",
    "    text = text.replace('.', ' ')\n",
    "    \n",
    "    palavras = row['text'].split(\" \")\n",
    "    for pa in palavras:\n",
    "        if(len(pa) >= 3):\n",
    "            formatted_palavras.append(pa) \n",
    "    total_palavras[index] = len(formatted_palavras)\n",
    "    todas_palavras.extend(formatted_palavras)    \n",
    "\n",
    "ocorrencia = Counter(todas_palavras)\n",
    "\n",
    "uma_vez = len([freq for freq in total_palavras.values() if freq == 1])\n",
    "mais_1000 = len([freq for freq in total_palavras.values() if freq > 1000])\n",
    "vocabulario = len(total_palavras)\n",
    "\n",
    "tabela = pd.DataFrame(data = {' ':['Total documents',\n",
    "                                              'Total word occurrences',\n",
    "                                              'Vocabulary size', \n",
    "                                              'Words occurring > 1000 times',\n",
    "                                              'Words occurring once '],\n",
    "                                  '':[total_documentos,\n",
    "                                             len(todas_palavras),\n",
    "                                             vocabulario,\n",
    "                                             mais_1000,\n",
    "                                             uma_vez]})\n",
    "tabela.index += 1\n",
    "tabela.style.hide_index()"
   ]
  },
  {
   "cell_type": "markdown",
   "metadata": {},
   "source": [
    "2. Reproduza a tabela 4.2 do livro considerando as top-50 palavras mais frequentes de sua coleção."
   ]
  },
  {
   "cell_type": "code",
   "execution_count": null,
   "metadata": {
    "collapsed": false
   },
   "outputs": [],
   "source": [
    "raking = ocorrencia.most_common(50)\n",
    "\n",
    "top_50 = pd.DataFrame(columns = ['Word', 'Frequency', 'r', 'Pr(%)', 'r.Pr'])\n",
    "\n",
    "top_50['Word'] = [word[0] for word in raking]\n",
    "top_50['Frequency'] = [word[1] for word in raking]\n",
    "top_50['r'] = [rank+1 for rank in range(0, len(raking))]\n",
    "top_50['Pr(%)'] = [round((word[1] / len(todas_palavras))*100, 2) for word in raking]\n",
    "top_50['r.Pr'] = round((top_50['Pr(%)']/100)*top_50['r'], 3)\n",
    "\n",
    "top_50.index += 1\n",
    "top_50"
   ]
  },
  {
   "cell_type": "code",
   "execution_count": null,
   "metadata": {
    "collapsed": false
   },
   "outputs": [],
   "source": [
    "3.  Plote curvas de rank-frequência (usando escala logarítmica) para palavras e bigramas na coleção que você coletou na atividade anterior. Quais os melhores valores do parâmetro c para cada curva?"
   ]
  },
  {
   "cell_type": "code",
   "execution_count": null,
   "metadata": {
    "collapsed": true
   },
   "outputs": [],
   "source": [
    "3.  Plote curvas de rank-frequência (usando escala logarítmica) para palavras e bigramas na coleção que você coletou na atividade anterior. Quais os melhores valores do parâmetro c para cada curva"
   ]
  },
  {
   "cell_type": "code",
   "execution_count": null,
   "metadata": {
    "collapsed": false
   },
   "outputs": [],
   "source": [
    "f, ax = plt.subplots(figsize=(7, 7))\n",
    "ax.set(xscale=\"log\", yscale=\"log\")\n",
    "sns.regplot(\"r\", \"Frequency\", top_50, ax=ax, marker=\"*\", scatter_kws={\"s\": 100}, fit_reg = False, color = '#FF8C00')"
   ]
  },
  {
   "cell_type": "code",
   "execution_count": null,
   "metadata": {
    "collapsed": false
   },
   "outputs": [],
   "source": [
    "4. Reproduza a tabela 4.5 do livro texto considerando a sua coleção."
   ]
  },
  {
   "cell_type": "code",
   "execution_count": null,
   "metadata": {
    "collapsed": false
   },
   "outputs": [],
   "source": [
    "prop_table = pd.DataFrame()\n",
    "prop_table['Number of Occurrences (n)'] = ocorrencia.values() \n",
    "prop_table = prop_table.groupby(['Number of Occurrences (n)'])['Number of Occurrences (n)'].size().reset_index(name='Actual Number of Words')\n",
    "prop_table['Predicted Proportion (1/n(n+1))'] = round(1 / (prop_table['Number of Occurrences (n)']*(prop_table['Number of Occurrences (n)'] + 1)), 3)\n",
    "prop_table['Actual Proportion'] = round(prop_table['Actual Number of Words'] / len(ocorrencia), 3)\n",
    "\n",
    "prop_table = prop_table[['Number of Occurrences (n)', 'Predicted Proportion (1/n(n+1))', 'Actual Proportion', 'Actual Number of Words']]\n",
    "prop_table.index += 1\n",
    "prop_table.head(10)"
   ]
  },
  {
   "cell_type": "code",
   "execution_count": null,
   "metadata": {
    "collapsed": true
   },
   "outputs": [],
   "source": []
  },
  {
   "cell_type": "code",
   "execution_count": null,
   "metadata": {
    "collapsed": true
   },
   "outputs": [],
   "source": []
  }
 ],
 "metadata": {
  "anaconda-cloud": {},
  "kernelspec": {
   "display_name": "Python 3",
   "language": "python",
   "name": "python3"
  },
  "language_info": {
   "codemirror_mode": {
    "name": "ipython",
    "version": 3
   },
   "file_extension": ".py",
   "mimetype": "text/x-python",
   "name": "python",
   "nbconvert_exporter": "python",
   "pygments_lexer": "ipython3",
   "version": "3.6.7"
  }
 },
 "nbformat": 4,
 "nbformat_minor": 2
}
