{
  "nbformat": 4,
  "nbformat_minor": 0,
  "metadata": {
    "colab": {
      "name": "expansao_consulta.ipynb",
      "version": "0.3.2",
      "provenance": [],
      "collapsed_sections": [
        "McpHTjVVB5xA",
        "09vbHGYoCGMd",
        "vFlUTQuPCL1A",
        "80B4zI8HCPOG"
      ],
      "include_colab_link": true
    },
    "kernelspec": {
      "name": "python3",
      "display_name": "Python 3"
    }
  },
  "cells": [
    {
      "cell_type": "markdown",
      "metadata": {
        "id": "view-in-github",
        "colab_type": "text"
      },
      "source": [
        "<a href=\"https://colab.research.google.com/github/lucasbarrosrocha/rec-info/blob/master/recinfo_lab6.ipynb\" target=\"_parent\"><img src=\"https://colab.research.google.com/assets/colab-badge.svg\" alt=\"Open In Colab\"/></a>"
      ]
    },
    {
      "cell_type": "code",
      "metadata": {
        "id": "tfz5rWn7rQX8",
        "colab_type": "code",
        "colab": {}
      },
      "source": [
        ""
      ],
      "execution_count": 0,
      "outputs": []
    },
    {
      "cell_type": "markdown",
      "metadata": {
        "id": "fqVAJKNhraUU",
        "colab_type": "text"
      },
      "source": [
        "\n",
        "\n",
        "### Recuperação da Informação\n",
        "#### Professor: Leandro Balby\n",
        "#### Aluno: Lucas Barros Rocha - 115111579\n",
        "\n"
      ]
    },
    {
      "cell_type": "code",
      "metadata": {
        "id": "XuY1pp7Qp-tE",
        "colab_type": "code",
        "outputId": "a488e7f3-4821-41f6-99b7-a06e6e7cad48",
        "colab": {
          "base_uri": "https://localhost:8080/",
          "height": 52
        }
      },
      "source": [
        "#bibliotecas\n",
        "import pandas as pd\n",
        "import numpy as np\n",
        "import nltk\n",
        "import re\n",
        "import collections\n",
        "import heapq\n",
        "import time\n",
        "import bisect\n",
        "import random\n",
        "from nltk.tokenize import RegexpTokenizer\n",
        "\n",
        "nltk.download('stopwords')\n",
        "result = pd.read_csv('https://raw.githubusercontent.com/lucasbarrosrocha/rec-info/master/ri_lab_06/results.csv') \n",
        "                                  "
      ],
      "execution_count": 0,
      "outputs": [
        {
          "output_type": "stream",
          "text": [
            "[nltk_data] Downloading package stopwords to /root/nltk_data...\n",
            "[nltk_data]   Package stopwords is already up-to-date!\n"
          ],
          "name": "stdout"
        }
      ]
    },
    {
      "cell_type": "code",
      "metadata": {
        "id": "MOSw37nUKtCI",
        "colab_type": "code",
        "colab": {}
      },
      "source": [
        "tknz = RegexpTokenizer(r'([A-Za-zÁáÉéÍíÓóÚúÃãÕõÇçÂâÊê]{3,27})')\n",
        "stopwords = nltk.corpus.stopwords.words('portuguese') \n",
        "indexes = {}\n",
        "n = 0\n",
        "\n",
        "for text in result.text:\n",
        "  words = [word for word in tknz.tokenize(text.lower())\n",
        "           if not bool(re.search(r'\\d', word))\n",
        "           and word not in stopwords and len(word) >= 3]  \n",
        "  n += 1\n",
        "  for t in words:\n",
        "    if t not in indexes.keys():\n",
        "      indexes[t] = []\n",
        "    indexes[t].append(n)\n",
        "    \n",
        "for elem in indexes.items():\n",
        "  d = dict(collections.Counter(elem[1]))\n",
        "  indexes[elem[0]] = list(d.items())"
      ],
      "execution_count": 0,
      "outputs": []
    },
    {
      "cell_type": "code",
      "metadata": {
        "id": "qYKrGnagt-o2",
        "colab_type": "code",
        "colab": {}
      },
      "source": [
        "queries = [\"bolsonaro\", \"educação\", \"ministério\", \"brasil\", \"economia\"]"
      ],
      "execution_count": 0,
      "outputs": []
    },
    {
      "cell_type": "markdown",
      "metadata": {
        "id": "y3YVhyLTugJM",
        "colab_type": "text"
      },
      "source": [
        "### 1. Calcule as top-10 palavras mais associadas a cada uma dessas 5 palavras de acordo com as 4 métricas que vimos na aula. Você deve produzir uma tabela similar à tabela 6.3 do capítulo 6 do livro texto (pág. 204). Qual métrica você acha que obteve os melhores resultados? Por que?"
      ]
    },
    {
      "cell_type": "code",
      "metadata": {
        "id": "V_MpIn1pEjEX",
        "colab_type": "code",
        "colab": {}
      },
      "source": [
        "def n_docs_word(word, ranking):\n",
        "  return len(ranking[word])\n",
        "\n",
        "def n_docs_both(a, b, ranking):\n",
        "  docs_a = [doc for doc,score in ranking[a]]\n",
        "  docs_b = [doc for doc,score in ranking[b]]\n",
        "  n = 0\n",
        "  \n",
        "  for doc in docs_a:\n",
        "    if doc in docs_b:\n",
        "      n += 1\n",
        "      \n",
        "  return n"
      ],
      "execution_count": 0,
      "outputs": []
    },
    {
      "cell_type": "code",
      "metadata": {
        "id": "TW7-5fxy53am",
        "colab_type": "code",
        "colab": {}
      },
      "source": [
        "def calc_mim(a, b, ranking):\n",
        "  n_a = n_docs_word(a, ranking)\n",
        "  n_b = n_docs_word(b, ranking)\n",
        "  n_ab = n_docs_both(a, b, ranking)\n",
        "  quo = (n_a * n_b)\n",
        "  mim = n_ab / quo if quo != 0 else 0\n",
        "  return (mim,b)\n",
        "  \n",
        "def calc_emim(a, b, ranking, n):\n",
        "  n_a = n_docs_word(a, ranking)\n",
        "  n_b = n_docs_word(b, ranking)\n",
        "  n_ab = n_docs_both(a, b, ranking)\n",
        "  quo = (n_a * n_b)\n",
        "  exp = n * (n_ab / quo) if quo != 0 else 0\n",
        "  emim = n_ab * np.log10(exp) if exp != 0 else 0\n",
        "  return (emim, b)\n",
        "  \n",
        "def calc_x(a, b, ranking, n):\n",
        "  n_a = n_docs_word(a, ranking)\n",
        "  n_b = n_docs_word(b, ranking)\n",
        "  n_ab = n_docs_both(a, b, ranking)\n",
        "  quo = (n_a * n_b)\n",
        "  x = (n_ab - (1 / n) * n_a * n_b) ** 2 / quo if quo != 0 else 0\n",
        "  return (x,b)\n",
        "  \n",
        "def calc_dice(a, b, ranking):\n",
        "  n_a = n_docs_word(a, ranking)\n",
        "  n_b = n_docs_word(b, ranking)\n",
        "  n_ab = n_docs_both(a, b, ranking)\n",
        "  dice = n_ab / (n_a + n_b)\n",
        "  return (dice,b)"
      ],
      "execution_count": 0,
      "outputs": []
    },
    {
      "cell_type": "code",
      "metadata": {
        "id": "zbY8hBJBujQN",
        "colab_type": "code",
        "colab": {}
      },
      "source": [
        "def create_metrics_table(query, ranking, n):\n",
        "  top_10_table = pd.DataFrame()\n",
        "  MIM = []\n",
        "  EMIM = []\n",
        "  X = []\n",
        "  Dice = []\n",
        "  \n",
        "  for word in ranking:\n",
        "    if word != query:\n",
        "      bisect.insort(MIM, calc_mim(query, word, ranking))\n",
        "      bisect.insort(EMIM,calc_emim(query, word, ranking, n))\n",
        "      bisect.insort(X,calc_x(query, word, ranking, n))\n",
        "      bisect.insort(Dice,calc_dice(query, word, ranking))\n",
        "\n",
        "  MIM.reverse()\n",
        "  EMIM.reverse()\n",
        "  X.reverse()\n",
        "  Dice.reverse()\n",
        "  \n",
        "  top_10_table['MIM'] = [word[1] for word in MIM[:10]]\n",
        "  top_10_table['EMIM'] = [word[1] for word in EMIM[:10]]\n",
        "  top_10_table['X²'] = [word[1] for word in X[:10]]\n",
        "  top_10_table['Dice'] = [word[1] for word in Dice[:10]]\n",
        "  \n",
        "  top_10_table.index += 1\n",
        "  \n",
        "  return top_10_table"
      ],
      "execution_count": 0,
      "outputs": []
    },
    {
      "cell_type": "code",
      "metadata": {
        "id": "axOJ34jiBL0A",
        "colab_type": "code",
        "colab": {}
      },
      "source": [
        "n = result.text.count()\n",
        "table_1 = create_metrics_table(queries[0], indexes, n)\n",
        "table_2 = create_metrics_table(queries[1], indexes, n)\n",
        "table_3 = create_metrics_table(queries[2], indexes, n)\n",
        "table_4 = create_metrics_table(queries[3], indexes, n)\n",
        "table_5 = create_metrics_table(queries[4], indexes, n)"
      ],
      "execution_count": 0,
      "outputs": []
    },
    {
      "cell_type": "markdown",
      "metadata": {
        "id": "ywIVJjE7Bufv",
        "colab_type": "text"
      },
      "source": [
        "####1.1 Top-10 palavras associadas a 'Bolsonaro' "
      ]
    },
    {
      "cell_type": "code",
      "metadata": {
        "id": "S5idEpXTBWs3",
        "colab_type": "code",
        "outputId": "92264018-c5c8-473d-fc0e-c7e6469c56d2",
        "colab": {
          "base_uri": "https://localhost:8080/",
          "height": 347
        }
      },
      "source": [
        "table_1"
      ],
      "execution_count": 0,
      "outputs": [
        {
          "output_type": "execute_result",
          "data": {
            "text/html": [
              "<div>\n",
              "<style scoped>\n",
              "    .dataframe tbody tr th:only-of-type {\n",
              "        vertical-align: middle;\n",
              "    }\n",
              "\n",
              "    .dataframe tbody tr th {\n",
              "        vertical-align: top;\n",
              "    }\n",
              "\n",
              "    .dataframe thead th {\n",
              "        text-align: right;\n",
              "    }\n",
              "</style>\n",
              "<table border=\"1\" class=\"dataframe\">\n",
              "  <thead>\n",
              "    <tr style=\"text-align: right;\">\n",
              "      <th></th>\n",
              "      <th>MIM</th>\n",
              "      <th>EMIM</th>\n",
              "      <th>X²</th>\n",
              "      <th>Dice</th>\n",
              "    </tr>\n",
              "  </thead>\n",
              "  <tbody>\n",
              "    <tr>\n",
              "      <th>1</th>\n",
              "      <td>ótimas</td>\n",
              "      <td>presidente</td>\n",
              "      <td>jair</td>\n",
              "      <td>presidente</td>\n",
              "    </tr>\n",
              "    <tr>\n",
              "      <th>2</th>\n",
              "      <td>óbvios</td>\n",
              "      <td>brasil</td>\n",
              "      <td>psl</td>\n",
              "      <td>brasil</td>\n",
              "    </tr>\n",
              "    <tr>\n",
              "      <th>3</th>\n",
              "      <td>óbvias</td>\n",
              "      <td>governo</td>\n",
              "      <td>previdência</td>\n",
              "      <td>governo</td>\n",
              "    </tr>\n",
              "    <tr>\n",
              "      <th>4</th>\n",
              "      <td>índole</td>\n",
              "      <td>brasileiro</td>\n",
              "      <td>reforma</td>\n",
              "      <td>brasileiro</td>\n",
              "    </tr>\n",
              "    <tr>\n",
              "      <th>5</th>\n",
              "      <td>ético</td>\n",
              "      <td>ministro</td>\n",
              "      <td>planalto</td>\n",
              "      <td>ministro</td>\n",
              "    </tr>\n",
              "    <tr>\n",
              "      <th>6</th>\n",
              "      <td>ânus</td>\n",
              "      <td>reforma</td>\n",
              "      <td>brasileiro</td>\n",
              "      <td>político</td>\n",
              "    </tr>\n",
              "    <tr>\n",
              "      <th>7</th>\n",
              "      <td>ânimos</td>\n",
              "      <td>político</td>\n",
              "      <td>brasil</td>\n",
              "      <td>brasileira</td>\n",
              "    </tr>\n",
              "    <tr>\n",
              "      <th>8</th>\n",
              "      <td>ângulos</td>\n",
              "      <td>psl</td>\n",
              "      <td>deputado</td>\n",
              "      <td>ainda</td>\n",
              "    </tr>\n",
              "    <tr>\n",
              "      <th>9</th>\n",
              "      <td>ângelo</td>\n",
              "      <td>jair</td>\n",
              "      <td>presidente</td>\n",
              "      <td>paulo</td>\n",
              "    </tr>\n",
              "    <tr>\n",
              "      <th>10</th>\n",
              "      <td>ávidos</td>\n",
              "      <td>previdência</td>\n",
              "      <td>guedes</td>\n",
              "      <td>federal</td>\n",
              "    </tr>\n",
              "  </tbody>\n",
              "</table>\n",
              "</div>"
            ],
            "text/plain": [
              "        MIM         EMIM           X²        Dice\n",
              "1    ótimas   presidente         jair  presidente\n",
              "2    óbvios       brasil          psl      brasil\n",
              "3    óbvias      governo  previdência     governo\n",
              "4    índole   brasileiro      reforma  brasileiro\n",
              "5     ético     ministro     planalto    ministro\n",
              "6      ânus      reforma   brasileiro    político\n",
              "7    ânimos     político       brasil  brasileira\n",
              "8   ângulos          psl     deputado       ainda\n",
              "9    ângelo         jair   presidente       paulo\n",
              "10   ávidos  previdência       guedes     federal"
            ]
          },
          "metadata": {
            "tags": []
          },
          "execution_count": 10
        }
      ]
    },
    {
      "cell_type": "markdown",
      "metadata": {
        "id": "McpHTjVVB5xA",
        "colab_type": "text"
      },
      "source": [
        "#### 1.2 Top-10 palavras associadas a 'Educação'"
      ]
    },
    {
      "cell_type": "code",
      "metadata": {
        "id": "bArFMpg6BYnC",
        "colab_type": "code",
        "outputId": "8e24fc51-ac77-4287-cac1-9e5ac32fa45d",
        "colab": {
          "base_uri": "https://localhost:8080/"
        }
      },
      "source": [
        "table_2"
      ],
      "execution_count": 0,
      "outputs": [
        {
          "output_type": "execute_result",
          "data": {
            "text/html": [
              "<div>\n",
              "<style scoped>\n",
              "    .dataframe tbody tr th:only-of-type {\n",
              "        vertical-align: middle;\n",
              "    }\n",
              "\n",
              "    .dataframe tbody tr th {\n",
              "        vertical-align: top;\n",
              "    }\n",
              "\n",
              "    .dataframe thead th {\n",
              "        text-align: right;\n",
              "    }\n",
              "</style>\n",
              "<table border=\"1\" class=\"dataframe\">\n",
              "  <thead>\n",
              "    <tr style=\"text-align: right;\">\n",
              "      <th></th>\n",
              "      <th>MIM</th>\n",
              "      <th>EMIM</th>\n",
              "      <th>X²</th>\n",
              "      <th>Dice</th>\n",
              "    </tr>\n",
              "  </thead>\n",
              "  <tbody>\n",
              "    <tr>\n",
              "      <th>1</th>\n",
              "      <td>óbvios</td>\n",
              "      <td>alunos</td>\n",
              "      <td>alunos</td>\n",
              "      <td>alunos</td>\n",
              "    </tr>\n",
              "    <tr>\n",
              "      <th>2</th>\n",
              "      <td>óbvias</td>\n",
              "      <td>escolas</td>\n",
              "      <td>vélez</td>\n",
              "      <td>escolas</td>\n",
              "    </tr>\n",
              "    <tr>\n",
              "      <th>3</th>\n",
              "      <td>óbvia</td>\n",
              "      <td>social</td>\n",
              "      <td>escolas</td>\n",
              "      <td>social</td>\n",
              "    </tr>\n",
              "    <tr>\n",
              "      <th>4</th>\n",
              "      <td>étnicos</td>\n",
              "      <td>escola</td>\n",
              "      <td>mec</td>\n",
              "      <td>mudanças</td>\n",
              "    </tr>\n",
              "    <tr>\n",
              "      <th>5</th>\n",
              "      <td>étnico</td>\n",
              "      <td>discurso</td>\n",
              "      <td>aulas</td>\n",
              "      <td>escola</td>\n",
              "    </tr>\n",
              "    <tr>\n",
              "      <th>6</th>\n",
              "      <td>átomo</td>\n",
              "      <td>governo</td>\n",
              "      <td>aula</td>\n",
              "      <td>discurso</td>\n",
              "    </tr>\n",
              "    <tr>\n",
              "      <th>7</th>\n",
              "      <td>árbitros</td>\n",
              "      <td>mudanças</td>\n",
              "      <td>aluno</td>\n",
              "      <td>comissão</td>\n",
              "    </tr>\n",
              "    <tr>\n",
              "      <th>8</th>\n",
              "      <td>zombava</td>\n",
              "      <td>comissão</td>\n",
              "      <td>pasta</td>\n",
              "      <td>necessidade</td>\n",
              "    </tr>\n",
              "    <tr>\n",
              "      <th>9</th>\n",
              "      <td>zeina</td>\n",
              "      <td>vélez</td>\n",
              "      <td>estudantes</td>\n",
              "      <td>jovens</td>\n",
              "    </tr>\n",
              "    <tr>\n",
              "      <th>10</th>\n",
              "      <td>zeca</td>\n",
              "      <td>pasta</td>\n",
              "      <td>educacional</td>\n",
              "      <td>pasta</td>\n",
              "    </tr>\n",
              "  </tbody>\n",
              "</table>\n",
              "</div>"
            ],
            "text/plain": [
              "         MIM      EMIM           X²         Dice\n",
              "1     óbvios    alunos       alunos       alunos\n",
              "2     óbvias   escolas        vélez      escolas\n",
              "3      óbvia    social      escolas       social\n",
              "4    étnicos    escola          mec     mudanças\n",
              "5     étnico  discurso        aulas       escola\n",
              "6      átomo   governo         aula     discurso\n",
              "7   árbitros  mudanças        aluno     comissão\n",
              "8    zombava  comissão        pasta  necessidade\n",
              "9      zeina     vélez   estudantes       jovens\n",
              "10      zeca     pasta  educacional        pasta"
            ]
          },
          "metadata": {
            "tags": []
          },
          "execution_count": 11
        }
      ]
    },
    {
      "cell_type": "markdown",
      "metadata": {
        "id": "09vbHGYoCGMd",
        "colab_type": "text"
      },
      "source": [
        "#### 1.3 Top-10 palavras associadas a 'Ministério'"
      ]
    },
    {
      "cell_type": "code",
      "metadata": {
        "id": "NgPb85EqBaeT",
        "colab_type": "code",
        "outputId": "6aeb688b-15c2-43a0-b717-f59466218a43",
        "colab": {
          "base_uri": "https://localhost:8080/"
        }
      },
      "source": [
        "table_3"
      ],
      "execution_count": 0,
      "outputs": [
        {
          "output_type": "execute_result",
          "data": {
            "text/html": [
              "<div>\n",
              "<style scoped>\n",
              "    .dataframe tbody tr th:only-of-type {\n",
              "        vertical-align: middle;\n",
              "    }\n",
              "\n",
              "    .dataframe tbody tr th {\n",
              "        vertical-align: top;\n",
              "    }\n",
              "\n",
              "    .dataframe thead th {\n",
              "        text-align: right;\n",
              "    }\n",
              "</style>\n",
              "<table border=\"1\" class=\"dataframe\">\n",
              "  <thead>\n",
              "    <tr style=\"text-align: right;\">\n",
              "      <th></th>\n",
              "      <th>MIM</th>\n",
              "      <th>EMIM</th>\n",
              "      <th>X²</th>\n",
              "      <th>Dice</th>\n",
              "    </tr>\n",
              "  </thead>\n",
              "  <tbody>\n",
              "    <tr>\n",
              "      <th>1</th>\n",
              "      <td>úteis</td>\n",
              "      <td>federal</td>\n",
              "      <td>pasta</td>\n",
              "      <td>federal</td>\n",
              "    </tr>\n",
              "    <tr>\n",
              "      <th>2</th>\n",
              "      <td>óbvios</td>\n",
              "      <td>ministro</td>\n",
              "      <td>federal</td>\n",
              "      <td>ministro</td>\n",
              "    </tr>\n",
              "    <tr>\n",
              "      <th>3</th>\n",
              "      <td>íntegra</td>\n",
              "      <td>público</td>\n",
              "      <td>feita</td>\n",
              "      <td>público</td>\n",
              "    </tr>\n",
              "    <tr>\n",
              "      <th>4</th>\n",
              "      <td>ídolos</td>\n",
              "      <td>militares</td>\n",
              "      <td>valores</td>\n",
              "      <td>militares</td>\n",
              "    </tr>\n",
              "    <tr>\n",
              "      <th>5</th>\n",
              "      <td>étnico</td>\n",
              "      <td>valores</td>\n",
              "      <td>vieira</td>\n",
              "      <td>valores</td>\n",
              "    </tr>\n",
              "    <tr>\n",
              "      <th>6</th>\n",
              "      <td>ético</td>\n",
              "      <td>feita</td>\n",
              "      <td>promovido</td>\n",
              "      <td>governo</td>\n",
              "    </tr>\n",
              "    <tr>\n",
              "      <th>7</th>\n",
              "      <td>ânus</td>\n",
              "      <td>psl</td>\n",
              "      <td>lamenta</td>\n",
              "      <td>disse</td>\n",
              "    </tr>\n",
              "    <tr>\n",
              "      <th>8</th>\n",
              "      <td>ângulos</td>\n",
              "      <td>governo</td>\n",
              "      <td>psl</td>\n",
              "      <td>rio</td>\n",
              "    </tr>\n",
              "    <tr>\n",
              "      <th>9</th>\n",
              "      <td>ângelo</td>\n",
              "      <td>pasta</td>\n",
              "      <td>cidadania</td>\n",
              "      <td>justiça</td>\n",
              "    </tr>\n",
              "    <tr>\n",
              "      <th>10</th>\n",
              "      <td>áudios</td>\n",
              "      <td>disse</td>\n",
              "      <td>ministro</td>\n",
              "      <td>chefe</td>\n",
              "    </tr>\n",
              "  </tbody>\n",
              "</table>\n",
              "</div>"
            ],
            "text/plain": [
              "        MIM       EMIM         X²       Dice\n",
              "1     úteis    federal      pasta    federal\n",
              "2    óbvios   ministro    federal   ministro\n",
              "3   íntegra    público      feita    público\n",
              "4    ídolos  militares    valores  militares\n",
              "5    étnico    valores     vieira    valores\n",
              "6     ético      feita  promovido    governo\n",
              "7      ânus        psl    lamenta      disse\n",
              "8   ângulos    governo        psl        rio\n",
              "9    ângelo      pasta  cidadania    justiça\n",
              "10   áudios      disse   ministro      chefe"
            ]
          },
          "metadata": {
            "tags": []
          },
          "execution_count": 12
        }
      ]
    },
    {
      "cell_type": "markdown",
      "metadata": {
        "id": "vFlUTQuPCL1A",
        "colab_type": "text"
      },
      "source": [
        "#### 1.4 Top-10 palavras associadas a 'Brasil'"
      ]
    },
    {
      "cell_type": "code",
      "metadata": {
        "id": "qfdW2uUCBbKl",
        "colab_type": "code",
        "outputId": "e928b09f-0c42-446a-ee08-ad3bfbaaf2a1",
        "colab": {
          "base_uri": "https://localhost:8080/"
        }
      },
      "source": [
        "table_4"
      ],
      "execution_count": 0,
      "outputs": [
        {
          "output_type": "execute_result",
          "data": {
            "text/html": [
              "<div>\n",
              "<style scoped>\n",
              "    .dataframe tbody tr th:only-of-type {\n",
              "        vertical-align: middle;\n",
              "    }\n",
              "\n",
              "    .dataframe tbody tr th {\n",
              "        vertical-align: top;\n",
              "    }\n",
              "\n",
              "    .dataframe thead th {\n",
              "        text-align: right;\n",
              "    }\n",
              "</style>\n",
              "<table border=\"1\" class=\"dataframe\">\n",
              "  <thead>\n",
              "    <tr style=\"text-align: right;\">\n",
              "      <th></th>\n",
              "      <th>MIM</th>\n",
              "      <th>EMIM</th>\n",
              "      <th>X²</th>\n",
              "      <th>Dice</th>\n",
              "    </tr>\n",
              "  </thead>\n",
              "  <tbody>\n",
              "    <tr>\n",
              "      <th>1</th>\n",
              "      <td>útero</td>\n",
              "      <td>bolsonaro</td>\n",
              "      <td>brasileiros</td>\n",
              "      <td>bolsonaro</td>\n",
              "    </tr>\n",
              "    <tr>\n",
              "      <th>2</th>\n",
              "      <td>úteis</td>\n",
              "      <td>brasileiros</td>\n",
              "      <td>bolsonaro</td>\n",
              "      <td>sobre</td>\n",
              "    </tr>\n",
              "    <tr>\n",
              "      <th>3</th>\n",
              "      <td>ótimas</td>\n",
              "      <td>brasileira</td>\n",
              "      <td>brasileira</td>\n",
              "      <td>ainda</td>\n",
              "    </tr>\n",
              "    <tr>\n",
              "      <th>4</th>\n",
              "      <td>órgãos</td>\n",
              "      <td>sociais</td>\n",
              "      <td>paulo</td>\n",
              "      <td>governo</td>\n",
              "    </tr>\n",
              "    <tr>\n",
              "      <th>5</th>\n",
              "      <td>óbvios</td>\n",
              "      <td>paulo</td>\n",
              "      <td>sociais</td>\n",
              "      <td>ser</td>\n",
              "    </tr>\n",
              "    <tr>\n",
              "      <th>6</th>\n",
              "      <td>óbvias</td>\n",
              "      <td>brasileiro</td>\n",
              "      <td>brasileiro</td>\n",
              "      <td>presidente</td>\n",
              "    </tr>\n",
              "    <tr>\n",
              "      <th>7</th>\n",
              "      <td>óbvia</td>\n",
              "      <td>governo</td>\n",
              "      <td>brasileiras</td>\n",
              "      <td>anos</td>\n",
              "    </tr>\n",
              "    <tr>\n",
              "      <th>8</th>\n",
              "      <td>índole</td>\n",
              "      <td>federal</td>\n",
              "      <td>etc</td>\n",
              "      <td>país</td>\n",
              "    </tr>\n",
              "    <tr>\n",
              "      <th>9</th>\n",
              "      <td>índios</td>\n",
              "      <td>ainda</td>\n",
              "      <td>federal</td>\n",
              "      <td>sociais</td>\n",
              "    </tr>\n",
              "    <tr>\n",
              "      <th>10</th>\n",
              "      <td>índices</td>\n",
              "      <td>aqui</td>\n",
              "      <td>órgãos</td>\n",
              "      <td>outros</td>\n",
              "    </tr>\n",
              "  </tbody>\n",
              "</table>\n",
              "</div>"
            ],
            "text/plain": [
              "        MIM         EMIM           X²        Dice\n",
              "1     útero    bolsonaro  brasileiros   bolsonaro\n",
              "2     úteis  brasileiros    bolsonaro       sobre\n",
              "3    ótimas   brasileira   brasileira       ainda\n",
              "4    órgãos      sociais        paulo     governo\n",
              "5    óbvios        paulo      sociais         ser\n",
              "6    óbvias   brasileiro   brasileiro  presidente\n",
              "7     óbvia      governo  brasileiras        anos\n",
              "8    índole      federal          etc        país\n",
              "9    índios        ainda      federal     sociais\n",
              "10  índices         aqui       órgãos      outros"
            ]
          },
          "metadata": {
            "tags": []
          },
          "execution_count": 13
        }
      ]
    },
    {
      "cell_type": "markdown",
      "metadata": {
        "id": "80B4zI8HCPOG",
        "colab_type": "text"
      },
      "source": [
        "#### 1.5 Top-10 palavras associadas a 'Economia'"
      ]
    },
    {
      "cell_type": "code",
      "metadata": {
        "id": "0zLCM44RBb9z",
        "colab_type": "code",
        "outputId": "eb8c1978-89b6-449f-893f-732cabe5fe47",
        "colab": {
          "base_uri": "https://localhost:8080/"
        }
      },
      "source": [
        "table_5"
      ],
      "execution_count": 0,
      "outputs": [
        {
          "output_type": "execute_result",
          "data": {
            "text/html": [
              "<div>\n",
              "<style scoped>\n",
              "    .dataframe tbody tr th:only-of-type {\n",
              "        vertical-align: middle;\n",
              "    }\n",
              "\n",
              "    .dataframe tbody tr th {\n",
              "        vertical-align: top;\n",
              "    }\n",
              "\n",
              "    .dataframe thead th {\n",
              "        text-align: right;\n",
              "    }\n",
              "</style>\n",
              "<table border=\"1\" class=\"dataframe\">\n",
              "  <thead>\n",
              "    <tr style=\"text-align: right;\">\n",
              "      <th></th>\n",
              "      <th>MIM</th>\n",
              "      <th>EMIM</th>\n",
              "      <th>X²</th>\n",
              "      <th>Dice</th>\n",
              "    </tr>\n",
              "  </thead>\n",
              "  <tbody>\n",
              "    <tr>\n",
              "      <th>1</th>\n",
              "      <td>úteis</td>\n",
              "      <td>reforma</td>\n",
              "      <td>previdência</td>\n",
              "      <td>reforma</td>\n",
              "    </tr>\n",
              "    <tr>\n",
              "      <th>2</th>\n",
              "      <td>úlceras</td>\n",
              "      <td>previdência</td>\n",
              "      <td>reforma</td>\n",
              "      <td>previdência</td>\n",
              "    </tr>\n",
              "    <tr>\n",
              "      <th>3</th>\n",
              "      <td>óbvios</td>\n",
              "      <td>mercado</td>\n",
              "      <td>guedes</td>\n",
              "      <td>mercado</td>\n",
              "    </tr>\n",
              "    <tr>\n",
              "      <th>4</th>\n",
              "      <td>óbitos</td>\n",
              "      <td>econ</td>\n",
              "      <td>mercado</td>\n",
              "      <td>econ</td>\n",
              "    </tr>\n",
              "    <tr>\n",
              "      <th>5</th>\n",
              "      <td>índices</td>\n",
              "      <td>guedes</td>\n",
              "      <td>maia</td>\n",
              "      <td>governo</td>\n",
              "    </tr>\n",
              "    <tr>\n",
              "      <th>6</th>\n",
              "      <td>êxito</td>\n",
              "      <td>governo</td>\n",
              "      <td>mercados</td>\n",
              "      <td>menos</td>\n",
              "    </tr>\n",
              "    <tr>\n",
              "      <th>7</th>\n",
              "      <td>étnicos</td>\n",
              "      <td>mica</td>\n",
              "      <td>reformas</td>\n",
              "      <td>mica</td>\n",
              "    </tr>\n",
              "    <tr>\n",
              "      <th>8</th>\n",
              "      <td>ânus</td>\n",
              "      <td>menos</td>\n",
              "      <td>aposentadorias</td>\n",
              "      <td>política</td>\n",
              "    </tr>\n",
              "    <tr>\n",
              "      <th>9</th>\n",
              "      <td>ânsias</td>\n",
              "      <td>reformas</td>\n",
              "      <td>incerteza</td>\n",
              "      <td>presidente</td>\n",
              "    </tr>\n",
              "    <tr>\n",
              "      <th>10</th>\n",
              "      <td>ávidos</td>\n",
              "      <td>política</td>\n",
              "      <td>economista</td>\n",
              "      <td>ministro</td>\n",
              "    </tr>\n",
              "  </tbody>\n",
              "</table>\n",
              "</div>"
            ],
            "text/plain": [
              "        MIM         EMIM              X²         Dice\n",
              "1     úteis      reforma     previdência      reforma\n",
              "2   úlceras  previdência         reforma  previdência\n",
              "3    óbvios      mercado          guedes      mercado\n",
              "4    óbitos         econ         mercado         econ\n",
              "5   índices       guedes            maia      governo\n",
              "6     êxito      governo        mercados        menos\n",
              "7   étnicos         mica        reformas         mica\n",
              "8      ânus        menos  aposentadorias     política\n",
              "9    ânsias     reformas       incerteza   presidente\n",
              "10   ávidos     política      economista     ministro"
            ]
          },
          "metadata": {
            "tags": []
          },
          "execution_count": 14
        }
      ]
    },
    {
      "cell_type": "markdown",
      "metadata": {
        "id": "4U_7s9L6ujmv",
        "colab_type": "text"
      },
      "source": [
        "### 2. De acordo com a métrica que deu os melhores resultados na sua opinião, execute agora cada consulta (usando a abordagem documento- ou termo-por-vez)  expandido-a com: os top-3, top-5 e top-10 documentos. O que acontece com a precisão dos resultados em cada caso? Aumenta ou diminui? Justifique bem sua resposta."
      ]
    },
    {
      "cell_type": "code",
      "metadata": {
        "id": "jhbTZjZvQKi6",
        "colab_type": "code",
        "colab": {}
      },
      "source": [
        "def term_a_time(query, indexes, k):    \n",
        "    a = {} # Accumulator HashTable\n",
        "    query_indexes = [] # Array\n",
        "    rank = [] # HeapQueue, implementation of PriorityQueue\n",
        "    \n",
        "    for word in query.split(\" \"):\n",
        "      if word in indexes.keys():\n",
        "          query_indexes.append(indexes[word])\n",
        "    \n",
        "    for index in query_indexes:\n",
        "      for i in index:\n",
        "          doc = i[0]\n",
        "          if doc not in a.keys():\n",
        "              a[doc] = 0\n",
        "          a[doc] += i[1]\n",
        "    \n",
        "    for (doc, score) in a.items():\n",
        "      heapq.heappush(rank, (score, doc))\n",
        "        \n",
        "    return heapq.nlargest(k, rank)"
      ],
      "execution_count": 0,
      "outputs": []
    },
    {
      "cell_type": "code",
      "metadata": {
        "id": "AOMSnkM9QN9a",
        "colab_type": "code",
        "colab": {}
      },
      "source": [
        "def top_docs(query, k):\n",
        "  \n",
        "  top_docs = [doc for score,doc in term_a_time(query, indexes, k)]\n",
        "  top_docs_ranking = {} \n",
        "  \n",
        "  for word in indexes:\n",
        "    top_docs_ranking[word] = []\n",
        "    for doc_score in indexes[word]:\n",
        "      if doc_score[0] in top_docs:\n",
        "        top_docs_ranking[word].append(doc_score)\n",
        "        \n",
        "  return top_docs_ranking"
      ],
      "execution_count": 0,
      "outputs": []
    },
    {
      "cell_type": "markdown",
      "metadata": {
        "id": "f9K9_X-tCNyh",
        "colab_type": "text"
      },
      "source": [
        "#### Top-3 Documentos\n",
        "\n",
        "Expansão de consulta para os top-3 documentos das consultas selecionadas inicialmente."
      ]
    },
    {
      "cell_type": "code",
      "metadata": {
        "id": "nfbtKx6PQll_",
        "colab_type": "code",
        "colab": {}
      },
      "source": [
        "k = 3\n",
        "ranking_docs1 = top_docs(queries[0], k)\n",
        "ranking_docs2 = top_docs(queries[1], k)\n",
        "ranking_docs3 = top_docs(queries[2], k)\n",
        "ranking_docs4 = top_docs(queries[3], k)\n",
        "ranking_docs5 = top_docs(queries[4], k)"
      ],
      "execution_count": 0,
      "outputs": []
    },
    {
      "cell_type": "code",
      "metadata": {
        "id": "sWsG17xuIPFN",
        "colab_type": "code",
        "colab": {}
      },
      "source": [
        "table_top1 = create_metrics_table(queries[0], ranking_docs1, k)\n",
        "table_top2 = create_metrics_table(queries[1], ranking_docs2, k)\n",
        "table_top3 = create_metrics_table(queries[2], ranking_docs3, k)\n",
        "table_top4 = create_metrics_table(queries[3], ranking_docs4, k)\n",
        "table_top5 = create_metrics_table(queries[4], ranking_docs5, k)"
      ],
      "execution_count": 0,
      "outputs": []
    },
    {
      "cell_type": "markdown",
      "metadata": {
        "id": "EIqPnBmVK0OF",
        "colab_type": "text"
      },
      "source": [
        "##### Top-10 palavras associadas aos Top-3 Documentos de 'Bolsonaro'"
      ]
    },
    {
      "cell_type": "code",
      "metadata": {
        "id": "pWPtQCLbJMac",
        "colab_type": "code",
        "outputId": "41f82095-86f7-4352-ec9c-a5747249bdb6",
        "colab": {
          "base_uri": "https://localhost:8080/",
          "height": 347
        }
      },
      "source": [
        "table_dice = pd.DataFrame()\n",
        "table_dice['Dice before Term A Time'] = table_1['Dice']\n",
        "table_dice['Dice after Term A Time'] = table_top1['Dice']\n",
        "table_dice"
      ],
      "execution_count": 0,
      "outputs": [
        {
          "output_type": "execute_result",
          "data": {
            "text/html": [
              "<div>\n",
              "<style scoped>\n",
              "    .dataframe tbody tr th:only-of-type {\n",
              "        vertical-align: middle;\n",
              "    }\n",
              "\n",
              "    .dataframe tbody tr th {\n",
              "        vertical-align: top;\n",
              "    }\n",
              "\n",
              "    .dataframe thead th {\n",
              "        text-align: right;\n",
              "    }\n",
              "</style>\n",
              "<table border=\"1\" class=\"dataframe\">\n",
              "  <thead>\n",
              "    <tr style=\"text-align: right;\">\n",
              "      <th></th>\n",
              "      <th>Dice before Term A Time</th>\n",
              "      <th>Dice after Term A Time</th>\n",
              "    </tr>\n",
              "  </thead>\n",
              "  <tbody>\n",
              "    <tr>\n",
              "      <th>1</th>\n",
              "      <td>presidente</td>\n",
              "      <td>vez</td>\n",
              "    </tr>\n",
              "    <tr>\n",
              "      <th>2</th>\n",
              "      <td>brasil</td>\n",
              "      <td>três</td>\n",
              "    </tr>\n",
              "    <tr>\n",
              "      <th>3</th>\n",
              "      <td>governo</td>\n",
              "      <td>trata</td>\n",
              "    </tr>\n",
              "    <tr>\n",
              "      <th>4</th>\n",
              "      <td>brasileiro</td>\n",
              "      <td>trabalho</td>\n",
              "    </tr>\n",
              "    <tr>\n",
              "      <th>5</th>\n",
              "      <td>ministro</td>\n",
              "      <td>todas</td>\n",
              "    </tr>\n",
              "    <tr>\n",
              "      <th>6</th>\n",
              "      <td>político</td>\n",
              "      <td>sobre</td>\n",
              "    </tr>\n",
              "    <tr>\n",
              "      <th>7</th>\n",
              "      <td>brasileira</td>\n",
              "      <td>sob</td>\n",
              "    </tr>\n",
              "    <tr>\n",
              "      <th>8</th>\n",
              "      <td>ainda</td>\n",
              "      <td>site</td>\n",
              "    </tr>\n",
              "    <tr>\n",
              "      <th>9</th>\n",
              "      <td>paulo</td>\n",
              "      <td>sendo</td>\n",
              "    </tr>\n",
              "    <tr>\n",
              "      <th>10</th>\n",
              "      <td>federal</td>\n",
              "      <td>república</td>\n",
              "    </tr>\n",
              "  </tbody>\n",
              "</table>\n",
              "</div>"
            ],
            "text/plain": [
              "   Dice before Term A Time Dice after Term A Time\n",
              "1               presidente                    vez\n",
              "2                   brasil                   três\n",
              "3                  governo                  trata\n",
              "4               brasileiro               trabalho\n",
              "5                 ministro                  todas\n",
              "6                 político                  sobre\n",
              "7               brasileira                    sob\n",
              "8                    ainda                   site\n",
              "9                    paulo                  sendo\n",
              "10                 federal              república"
            ]
          },
          "metadata": {
            "tags": []
          },
          "execution_count": 19
        }
      ]
    },
    {
      "cell_type": "markdown",
      "metadata": {
        "id": "GzuhQNJjK8kO",
        "colab_type": "text"
      },
      "source": [
        "##### Top-10 palavras associadas aos Top-3 Documentos de 'Educação'"
      ]
    },
    {
      "cell_type": "code",
      "metadata": {
        "id": "LH3mPbOSLPrM",
        "colab_type": "code",
        "outputId": "932e02eb-0c31-48a9-bff8-d924407a7e91",
        "colab": {
          "base_uri": "https://localhost:8080/",
          "height": 347
        }
      },
      "source": [
        "table_dice = pd.DataFrame()\n",
        "table_dice['Dice before Term A Time'] = table_2['Dice']\n",
        "table_dice['Dice after Term A Time'] = table_top2['Dice']\n",
        "table_dice"
      ],
      "execution_count": 0,
      "outputs": [
        {
          "output_type": "execute_result",
          "data": {
            "text/html": [
              "<div>\n",
              "<style scoped>\n",
              "    .dataframe tbody tr th:only-of-type {\n",
              "        vertical-align: middle;\n",
              "    }\n",
              "\n",
              "    .dataframe tbody tr th {\n",
              "        vertical-align: top;\n",
              "    }\n",
              "\n",
              "    .dataframe thead th {\n",
              "        text-align: right;\n",
              "    }\n",
              "</style>\n",
              "<table border=\"1\" class=\"dataframe\">\n",
              "  <thead>\n",
              "    <tr style=\"text-align: right;\">\n",
              "      <th></th>\n",
              "      <th>Dice before Term A Time</th>\n",
              "      <th>Dice after Term A Time</th>\n",
              "    </tr>\n",
              "  </thead>\n",
              "  <tbody>\n",
              "    <tr>\n",
              "      <th>1</th>\n",
              "      <td>alunos</td>\n",
              "      <td>todo</td>\n",
              "    </tr>\n",
              "    <tr>\n",
              "      <th>2</th>\n",
              "      <td>escolas</td>\n",
              "      <td>social</td>\n",
              "    </tr>\n",
              "    <tr>\n",
              "      <th>3</th>\n",
              "      <td>social</td>\n",
              "      <td>ser</td>\n",
              "    </tr>\n",
              "    <tr>\n",
              "      <th>4</th>\n",
              "      <td>mudanças</td>\n",
              "      <td>qualidade</td>\n",
              "    </tr>\n",
              "    <tr>\n",
              "      <th>5</th>\n",
              "      <td>escola</td>\n",
              "      <td>proposta</td>\n",
              "    </tr>\n",
              "    <tr>\n",
              "      <th>6</th>\n",
              "      <td>discurso</td>\n",
              "      <td>projeto</td>\n",
              "    </tr>\n",
              "    <tr>\n",
              "      <th>7</th>\n",
              "      <td>comissão</td>\n",
              "      <td>parece</td>\n",
              "    </tr>\n",
              "    <tr>\n",
              "      <th>8</th>\n",
              "      <td>necessidade</td>\n",
              "      <td>onde</td>\n",
              "    </tr>\n",
              "    <tr>\n",
              "      <th>9</th>\n",
              "      <td>jovens</td>\n",
              "      <td>fazendo</td>\n",
              "    </tr>\n",
              "    <tr>\n",
              "      <th>10</th>\n",
              "      <td>pasta</td>\n",
              "      <td>faz</td>\n",
              "    </tr>\n",
              "  </tbody>\n",
              "</table>\n",
              "</div>"
            ],
            "text/plain": [
              "   Dice before Term A Time Dice after Term A Time\n",
              "1                   alunos                   todo\n",
              "2                  escolas                 social\n",
              "3                   social                    ser\n",
              "4                 mudanças              qualidade\n",
              "5                   escola               proposta\n",
              "6                 discurso                projeto\n",
              "7                 comissão                 parece\n",
              "8              necessidade                   onde\n",
              "9                   jovens                fazendo\n",
              "10                   pasta                    faz"
            ]
          },
          "metadata": {
            "tags": []
          },
          "execution_count": 20
        }
      ]
    },
    {
      "cell_type": "markdown",
      "metadata": {
        "id": "Mw5ATdBDK8-A",
        "colab_type": "text"
      },
      "source": [
        "##### Top-10 palavras associadas aos Top-3 Documentos de 'Ministério'"
      ]
    },
    {
      "cell_type": "code",
      "metadata": {
        "id": "cRKqTowzLQue",
        "colab_type": "code",
        "outputId": "36afcf9a-154a-443b-8476-d367578b62ae",
        "colab": {
          "base_uri": "https://localhost:8080/",
          "height": 347
        }
      },
      "source": [
        "table_dice = pd.DataFrame()\n",
        "table_dice['Dice before Term A Time'] = table_3['Dice']\n",
        "table_dice['Dice after Term A Time'] = table_top3['Dice']\n",
        "table_dice"
      ],
      "execution_count": 0,
      "outputs": [
        {
          "output_type": "execute_result",
          "data": {
            "text/html": [
              "<div>\n",
              "<style scoped>\n",
              "    .dataframe tbody tr th:only-of-type {\n",
              "        vertical-align: middle;\n",
              "    }\n",
              "\n",
              "    .dataframe tbody tr th {\n",
              "        vertical-align: top;\n",
              "    }\n",
              "\n",
              "    .dataframe thead th {\n",
              "        text-align: right;\n",
              "    }\n",
              "</style>\n",
              "<table border=\"1\" class=\"dataframe\">\n",
              "  <thead>\n",
              "    <tr style=\"text-align: right;\">\n",
              "      <th></th>\n",
              "      <th>Dice before Term A Time</th>\n",
              "      <th>Dice after Term A Time</th>\n",
              "    </tr>\n",
              "  </thead>\n",
              "  <tbody>\n",
              "    <tr>\n",
              "      <th>1</th>\n",
              "      <td>federal</td>\n",
              "      <td>vez</td>\n",
              "    </tr>\n",
              "    <tr>\n",
              "      <th>2</th>\n",
              "      <td>ministro</td>\n",
              "      <td>ter</td>\n",
              "    </tr>\n",
              "    <tr>\n",
              "      <th>3</th>\n",
              "      <td>público</td>\n",
              "      <td>ser</td>\n",
              "    </tr>\n",
              "    <tr>\n",
              "      <th>4</th>\n",
              "      <td>militares</td>\n",
              "      <td>reais</td>\n",
              "    </tr>\n",
              "    <tr>\n",
              "      <th>5</th>\n",
              "      <td>valores</td>\n",
              "      <td>pública</td>\n",
              "    </tr>\n",
              "    <tr>\n",
              "      <th>6</th>\n",
              "      <td>governo</td>\n",
              "      <td>projeto</td>\n",
              "    </tr>\n",
              "    <tr>\n",
              "      <th>7</th>\n",
              "      <td>disse</td>\n",
              "      <td>primeiro</td>\n",
              "    </tr>\n",
              "    <tr>\n",
              "      <th>8</th>\n",
              "      <td>rio</td>\n",
              "      <td>política</td>\n",
              "    </tr>\n",
              "    <tr>\n",
              "      <th>9</th>\n",
              "      <td>justiça</td>\n",
              "      <td>parte</td>\n",
              "    </tr>\n",
              "    <tr>\n",
              "      <th>10</th>\n",
              "      <td>chefe</td>\n",
              "      <td>ministro</td>\n",
              "    </tr>\n",
              "  </tbody>\n",
              "</table>\n",
              "</div>"
            ],
            "text/plain": [
              "   Dice before Term A Time Dice after Term A Time\n",
              "1                  federal                    vez\n",
              "2                 ministro                    ter\n",
              "3                  público                    ser\n",
              "4                militares                  reais\n",
              "5                  valores                pública\n",
              "6                  governo                projeto\n",
              "7                    disse               primeiro\n",
              "8                      rio               política\n",
              "9                  justiça                  parte\n",
              "10                   chefe               ministro"
            ]
          },
          "metadata": {
            "tags": []
          },
          "execution_count": 21
        }
      ]
    },
    {
      "cell_type": "markdown",
      "metadata": {
        "id": "QvqiSNkwK9cS",
        "colab_type": "text"
      },
      "source": [
        "##### Top-10 palavras associadas aos Top-3 Documentos de 'Brasil'"
      ]
    },
    {
      "cell_type": "code",
      "metadata": {
        "id": "6_G33lxhLRuG",
        "colab_type": "code",
        "outputId": "b376193a-1e40-43ca-f97b-fd10389ad753",
        "colab": {
          "base_uri": "https://localhost:8080/",
          "height": 347
        }
      },
      "source": [
        "table_dice = pd.DataFrame()\n",
        "table_dice['Dice before Term A Time'] = table_4['Dice']\n",
        "table_dice['Dice after Term A Time'] = table_top4['Dice']\n",
        "table_dice"
      ],
      "execution_count": 0,
      "outputs": [
        {
          "output_type": "execute_result",
          "data": {
            "text/html": [
              "<div>\n",
              "<style scoped>\n",
              "    .dataframe tbody tr th:only-of-type {\n",
              "        vertical-align: middle;\n",
              "    }\n",
              "\n",
              "    .dataframe tbody tr th {\n",
              "        vertical-align: top;\n",
              "    }\n",
              "\n",
              "    .dataframe thead th {\n",
              "        text-align: right;\n",
              "    }\n",
              "</style>\n",
              "<table border=\"1\" class=\"dataframe\">\n",
              "  <thead>\n",
              "    <tr style=\"text-align: right;\">\n",
              "      <th></th>\n",
              "      <th>Dice before Term A Time</th>\n",
              "      <th>Dice after Term A Time</th>\n",
              "    </tr>\n",
              "  </thead>\n",
              "  <tbody>\n",
              "    <tr>\n",
              "      <th>1</th>\n",
              "      <td>bolsonaro</td>\n",
              "      <td>vão</td>\n",
              "    </tr>\n",
              "    <tr>\n",
              "      <th>2</th>\n",
              "      <td>sobre</td>\n",
              "      <td>voto</td>\n",
              "    </tr>\n",
              "    <tr>\n",
              "      <th>3</th>\n",
              "      <td>ainda</td>\n",
              "      <td>violência</td>\n",
              "    </tr>\n",
              "    <tr>\n",
              "      <th>4</th>\n",
              "      <td>governo</td>\n",
              "      <td>vida</td>\n",
              "    </tr>\n",
              "    <tr>\n",
              "      <th>5</th>\n",
              "      <td>ser</td>\n",
              "      <td>vezes</td>\n",
              "    </tr>\n",
              "    <tr>\n",
              "      <th>6</th>\n",
              "      <td>presidente</td>\n",
              "      <td>vez</td>\n",
              "    </tr>\n",
              "    <tr>\n",
              "      <th>7</th>\n",
              "      <td>anos</td>\n",
              "      <td>vergonha</td>\n",
              "    </tr>\n",
              "    <tr>\n",
              "      <th>8</th>\n",
              "      <td>país</td>\n",
              "      <td>verdade</td>\n",
              "    </tr>\n",
              "    <tr>\n",
              "      <th>9</th>\n",
              "      <td>sociais</td>\n",
              "      <td>vai</td>\n",
              "    </tr>\n",
              "    <tr>\n",
              "      <th>10</th>\n",
              "      <td>outros</td>\n",
              "      <td>têm</td>\n",
              "    </tr>\n",
              "  </tbody>\n",
              "</table>\n",
              "</div>"
            ],
            "text/plain": [
              "   Dice before Term A Time Dice after Term A Time\n",
              "1                bolsonaro                    vão\n",
              "2                    sobre                   voto\n",
              "3                    ainda              violência\n",
              "4                  governo                   vida\n",
              "5                      ser                  vezes\n",
              "6               presidente                    vez\n",
              "7                     anos               vergonha\n",
              "8                     país                verdade\n",
              "9                  sociais                    vai\n",
              "10                  outros                    têm"
            ]
          },
          "metadata": {
            "tags": []
          },
          "execution_count": 22
        }
      ]
    },
    {
      "cell_type": "markdown",
      "metadata": {
        "id": "6iUkLWk7K9um",
        "colab_type": "text"
      },
      "source": [
        "##### Top-10 palavras associadas aos Top-3 Documentos de 'Economia'"
      ]
    },
    {
      "cell_type": "code",
      "metadata": {
        "id": "j9ll913XLSuR",
        "colab_type": "code",
        "outputId": "4629844a-d8e7-4bc9-e91a-f695f6040877",
        "colab": {
          "base_uri": "https://localhost:8080/",
          "height": 347
        }
      },
      "source": [
        "table_dice = pd.DataFrame()\n",
        "table_dice['Dice before Term A Time'] = table_5['Dice']\n",
        "table_dice['Dice after Term A Time'] = table_top5['Dice']\n",
        "table_dice"
      ],
      "execution_count": 0,
      "outputs": [
        {
          "output_type": "execute_result",
          "data": {
            "text/html": [
              "<div>\n",
              "<style scoped>\n",
              "    .dataframe tbody tr th:only-of-type {\n",
              "        vertical-align: middle;\n",
              "    }\n",
              "\n",
              "    .dataframe tbody tr th {\n",
              "        vertical-align: top;\n",
              "    }\n",
              "\n",
              "    .dataframe thead th {\n",
              "        text-align: right;\n",
              "    }\n",
              "</style>\n",
              "<table border=\"1\" class=\"dataframe\">\n",
              "  <thead>\n",
              "    <tr style=\"text-align: right;\">\n",
              "      <th></th>\n",
              "      <th>Dice before Term A Time</th>\n",
              "      <th>Dice after Term A Time</th>\n",
              "    </tr>\n",
              "  </thead>\n",
              "  <tbody>\n",
              "    <tr>\n",
              "      <th>1</th>\n",
              "      <td>reforma</td>\n",
              "      <td>sobre</td>\n",
              "    </tr>\n",
              "    <tr>\n",
              "      <th>2</th>\n",
              "      <td>previdência</td>\n",
              "      <td>setor</td>\n",
              "    </tr>\n",
              "    <tr>\n",
              "      <th>3</th>\n",
              "      <td>mercado</td>\n",
              "      <td>ser</td>\n",
              "    </tr>\n",
              "    <tr>\n",
              "      <th>4</th>\n",
              "      <td>econ</td>\n",
              "      <td>segundo</td>\n",
              "    </tr>\n",
              "    <tr>\n",
              "      <th>5</th>\n",
              "      <td>governo</td>\n",
              "      <td>resultado</td>\n",
              "    </tr>\n",
              "    <tr>\n",
              "      <th>6</th>\n",
              "      <td>menos</td>\n",
              "      <td>relação</td>\n",
              "    </tr>\n",
              "    <tr>\n",
              "      <th>7</th>\n",
              "      <td>mica</td>\n",
              "      <td>quase</td>\n",
              "    </tr>\n",
              "    <tr>\n",
              "      <th>8</th>\n",
              "      <td>política</td>\n",
              "      <td>principalmente</td>\n",
              "    </tr>\n",
              "    <tr>\n",
              "      <th>9</th>\n",
              "      <td>presidente</td>\n",
              "      <td>presidente</td>\n",
              "    </tr>\n",
              "    <tr>\n",
              "      <th>10</th>\n",
              "      <td>ministro</td>\n",
              "      <td>pouco</td>\n",
              "    </tr>\n",
              "  </tbody>\n",
              "</table>\n",
              "</div>"
            ],
            "text/plain": [
              "   Dice before Term A Time Dice after Term A Time\n",
              "1                  reforma                  sobre\n",
              "2              previdência                  setor\n",
              "3                  mercado                    ser\n",
              "4                     econ                segundo\n",
              "5                  governo              resultado\n",
              "6                    menos                relação\n",
              "7                     mica                  quase\n",
              "8                 política         principalmente\n",
              "9               presidente             presidente\n",
              "10                ministro                  pouco"
            ]
          },
          "metadata": {
            "tags": []
          },
          "execution_count": 23
        }
      ]
    },
    {
      "cell_type": "markdown",
      "metadata": {
        "id": "1Q1iuQEHCUD5",
        "colab_type": "text"
      },
      "source": [
        "#### Top-5 Documentos\n",
        "\n",
        "Expansão de consulta para os top-5 documentos das consultas selecionadas inicialmente."
      ]
    },
    {
      "cell_type": "code",
      "metadata": {
        "id": "xHGSwXFCCXc4",
        "colab_type": "code",
        "colab": {}
      },
      "source": [
        "k = 5\n",
        "ranking_docs1 = top_docs(queries[0], k)\n",
        "ranking_docs2 = top_docs(queries[1], k)\n",
        "ranking_docs3 = top_docs(queries[2], k)\n",
        "ranking_docs4 = top_docs(queries[3], k)\n",
        "ranking_docs5 = top_docs(queries[4], k)"
      ],
      "execution_count": 0,
      "outputs": []
    },
    {
      "cell_type": "code",
      "metadata": {
        "id": "a9gGhJ2bIQRs",
        "colab_type": "code",
        "colab": {}
      },
      "source": [
        "table_top1 = create_metrics_table(queries[0], ranking_docs1, k)\n",
        "table_top2 = create_metrics_table(queries[1], ranking_docs2, k)\n",
        "table_top3 = create_metrics_table(queries[2], ranking_docs3, k)\n",
        "table_top4 = create_metrics_table(queries[3], ranking_docs4, k)\n",
        "table_top5 = create_metrics_table(queries[4], ranking_docs5, k)"
      ],
      "execution_count": 0,
      "outputs": []
    },
    {
      "cell_type": "markdown",
      "metadata": {
        "colab_type": "text",
        "id": "rZ9jGjGZNNSQ"
      },
      "source": [
        "##### Top-10 palavras associadas aos Top-5 Documentos de 'Bolsonaro'"
      ]
    },
    {
      "cell_type": "code",
      "metadata": {
        "id": "U215V1f7NWQD",
        "colab_type": "code",
        "outputId": "c181e937-0f15-45b5-a92e-58413a33cc5d",
        "colab": {
          "base_uri": "https://localhost:8080/",
          "height": 347
        }
      },
      "source": [
        "table_dice = pd.DataFrame()\n",
        "table_dice['Dice before Term A Time'] = table_1['Dice']\n",
        "table_dice['Dice after Term A Time'] = table_top1['Dice']\n",
        "table_dice"
      ],
      "execution_count": 0,
      "outputs": [
        {
          "output_type": "execute_result",
          "data": {
            "text/html": [
              "<div>\n",
              "<style scoped>\n",
              "    .dataframe tbody tr th:only-of-type {\n",
              "        vertical-align: middle;\n",
              "    }\n",
              "\n",
              "    .dataframe tbody tr th {\n",
              "        vertical-align: top;\n",
              "    }\n",
              "\n",
              "    .dataframe thead th {\n",
              "        text-align: right;\n",
              "    }\n",
              "</style>\n",
              "<table border=\"1\" class=\"dataframe\">\n",
              "  <thead>\n",
              "    <tr style=\"text-align: right;\">\n",
              "      <th></th>\n",
              "      <th>Dice before Term A Time</th>\n",
              "      <th>Dice after Term A Time</th>\n",
              "    </tr>\n",
              "  </thead>\n",
              "  <tbody>\n",
              "    <tr>\n",
              "      <th>1</th>\n",
              "      <td>presidente</td>\n",
              "      <td>sobre</td>\n",
              "    </tr>\n",
              "    <tr>\n",
              "      <th>2</th>\n",
              "      <td>brasil</td>\n",
              "      <td>quase</td>\n",
              "    </tr>\n",
              "    <tr>\n",
              "      <th>3</th>\n",
              "      <td>governo</td>\n",
              "      <td>presidente</td>\n",
              "    </tr>\n",
              "    <tr>\n",
              "      <th>4</th>\n",
              "      <td>brasileiro</td>\n",
              "      <td>porém</td>\n",
              "    </tr>\n",
              "    <tr>\n",
              "      <th>5</th>\n",
              "      <td>ministro</td>\n",
              "      <td>pessoas</td>\n",
              "    </tr>\n",
              "    <tr>\n",
              "      <th>6</th>\n",
              "      <td>político</td>\n",
              "      <td>outro</td>\n",
              "    </tr>\n",
              "    <tr>\n",
              "      <th>7</th>\n",
              "      <td>brasileira</td>\n",
              "      <td>militar</td>\n",
              "    </tr>\n",
              "    <tr>\n",
              "      <th>8</th>\n",
              "      <td>ainda</td>\n",
              "      <td>fazer</td>\n",
              "    </tr>\n",
              "    <tr>\n",
              "      <th>9</th>\n",
              "      <td>paulo</td>\n",
              "      <td>envolvendo</td>\n",
              "    </tr>\n",
              "    <tr>\n",
              "      <th>10</th>\n",
              "      <td>federal</td>\n",
              "      <td>conta</td>\n",
              "    </tr>\n",
              "  </tbody>\n",
              "</table>\n",
              "</div>"
            ],
            "text/plain": [
              "   Dice before Term A Time Dice after Term A Time\n",
              "1               presidente                  sobre\n",
              "2                   brasil                  quase\n",
              "3                  governo             presidente\n",
              "4               brasileiro                  porém\n",
              "5                 ministro                pessoas\n",
              "6                 político                  outro\n",
              "7               brasileira                militar\n",
              "8                    ainda                  fazer\n",
              "9                    paulo             envolvendo\n",
              "10                 federal                  conta"
            ]
          },
          "metadata": {
            "tags": []
          },
          "execution_count": 26
        }
      ]
    },
    {
      "cell_type": "markdown",
      "metadata": {
        "colab_type": "text",
        "id": "SARrnvOqNO8A"
      },
      "source": [
        "##### Top-10 palavras associadas aos Top-5 Documentos de 'Educação'"
      ]
    },
    {
      "cell_type": "code",
      "metadata": {
        "id": "IGZ7eBkhNXOy",
        "colab_type": "code",
        "outputId": "c57dfd13-4ff5-4c2a-da2f-f5e40ff91f43",
        "colab": {
          "base_uri": "https://localhost:8080/",
          "height": 347
        }
      },
      "source": [
        "table_dice = pd.DataFrame()\n",
        "table_dice['Dice before Term A Time'] = table_2['Dice']\n",
        "table_dice['Dice after Term A Time'] = table_top2['Dice']\n",
        "table_dice"
      ],
      "execution_count": 0,
      "outputs": [
        {
          "output_type": "execute_result",
          "data": {
            "text/html": [
              "<div>\n",
              "<style scoped>\n",
              "    .dataframe tbody tr th:only-of-type {\n",
              "        vertical-align: middle;\n",
              "    }\n",
              "\n",
              "    .dataframe tbody tr th {\n",
              "        vertical-align: top;\n",
              "    }\n",
              "\n",
              "    .dataframe thead th {\n",
              "        text-align: right;\n",
              "    }\n",
              "</style>\n",
              "<table border=\"1\" class=\"dataframe\">\n",
              "  <thead>\n",
              "    <tr style=\"text-align: right;\">\n",
              "      <th></th>\n",
              "      <th>Dice before Term A Time</th>\n",
              "      <th>Dice after Term A Time</th>\n",
              "    </tr>\n",
              "  </thead>\n",
              "  <tbody>\n",
              "    <tr>\n",
              "      <th>1</th>\n",
              "      <td>alunos</td>\n",
              "      <td>ser</td>\n",
              "    </tr>\n",
              "    <tr>\n",
              "      <th>2</th>\n",
              "      <td>escolas</td>\n",
              "      <td>qualidade</td>\n",
              "    </tr>\n",
              "    <tr>\n",
              "      <th>3</th>\n",
              "      <td>social</td>\n",
              "      <td>onde</td>\n",
              "    </tr>\n",
              "    <tr>\n",
              "      <th>4</th>\n",
              "      <td>mudanças</td>\n",
              "      <td>todo</td>\n",
              "    </tr>\n",
              "    <tr>\n",
              "      <th>5</th>\n",
              "      <td>escola</td>\n",
              "      <td>ter</td>\n",
              "    </tr>\n",
              "    <tr>\n",
              "      <th>6</th>\n",
              "      <td>discurso</td>\n",
              "      <td>social</td>\n",
              "    </tr>\n",
              "    <tr>\n",
              "      <th>7</th>\n",
              "      <td>comissão</td>\n",
              "      <td>sobre</td>\n",
              "    </tr>\n",
              "    <tr>\n",
              "      <th>8</th>\n",
              "      <td>necessidade</td>\n",
              "      <td>segundo</td>\n",
              "    </tr>\n",
              "    <tr>\n",
              "      <th>9</th>\n",
              "      <td>jovens</td>\n",
              "      <td>pessoas</td>\n",
              "    </tr>\n",
              "    <tr>\n",
              "      <th>10</th>\n",
              "      <td>pasta</td>\n",
              "      <td>parece</td>\n",
              "    </tr>\n",
              "  </tbody>\n",
              "</table>\n",
              "</div>"
            ],
            "text/plain": [
              "   Dice before Term A Time Dice after Term A Time\n",
              "1                   alunos                    ser\n",
              "2                  escolas              qualidade\n",
              "3                   social                   onde\n",
              "4                 mudanças                   todo\n",
              "5                   escola                    ter\n",
              "6                 discurso                 social\n",
              "7                 comissão                  sobre\n",
              "8              necessidade                segundo\n",
              "9                   jovens                pessoas\n",
              "10                   pasta                 parece"
            ]
          },
          "metadata": {
            "tags": []
          },
          "execution_count": 27
        }
      ]
    },
    {
      "cell_type": "markdown",
      "metadata": {
        "colab_type": "text",
        "id": "omjRFa-YNPqA"
      },
      "source": [
        "##### Top-10 palavras associadas aos Top-5 Documentos de 'Ministério'"
      ]
    },
    {
      "cell_type": "code",
      "metadata": {
        "id": "v1Te5jW5NYKU",
        "colab_type": "code",
        "outputId": "cf260ce8-0080-4cc9-b56c-d8298b93c5fa",
        "colab": {
          "base_uri": "https://localhost:8080/",
          "height": 347
        }
      },
      "source": [
        "table_dice = pd.DataFrame()\n",
        "table_dice['Dice before Term A Time'] = table_3['Dice']\n",
        "table_dice['Dice after Term A Time'] = table_top3['Dice']\n",
        "table_dice"
      ],
      "execution_count": 0,
      "outputs": [
        {
          "output_type": "execute_result",
          "data": {
            "text/html": [
              "<div>\n",
              "<style scoped>\n",
              "    .dataframe tbody tr th:only-of-type {\n",
              "        vertical-align: middle;\n",
              "    }\n",
              "\n",
              "    .dataframe tbody tr th {\n",
              "        vertical-align: top;\n",
              "    }\n",
              "\n",
              "    .dataframe thead th {\n",
              "        text-align: right;\n",
              "    }\n",
              "</style>\n",
              "<table border=\"1\" class=\"dataframe\">\n",
              "  <thead>\n",
              "    <tr style=\"text-align: right;\">\n",
              "      <th></th>\n",
              "      <th>Dice before Term A Time</th>\n",
              "      <th>Dice after Term A Time</th>\n",
              "    </tr>\n",
              "  </thead>\n",
              "  <tbody>\n",
              "    <tr>\n",
              "      <th>1</th>\n",
              "      <td>federal</td>\n",
              "      <td>desde</td>\n",
              "    </tr>\n",
              "    <tr>\n",
              "      <th>2</th>\n",
              "      <td>ministro</td>\n",
              "      <td>ter</td>\n",
              "    </tr>\n",
              "    <tr>\n",
              "      <th>3</th>\n",
              "      <td>público</td>\n",
              "      <td>social</td>\n",
              "    </tr>\n",
              "    <tr>\n",
              "      <th>4</th>\n",
              "      <td>militares</td>\n",
              "      <td>ser</td>\n",
              "    </tr>\n",
              "    <tr>\n",
              "      <th>5</th>\n",
              "      <td>valores</td>\n",
              "      <td>semana</td>\n",
              "    </tr>\n",
              "    <tr>\n",
              "      <th>6</th>\n",
              "      <td>governo</td>\n",
              "      <td>segundo</td>\n",
              "    </tr>\n",
              "    <tr>\n",
              "      <th>7</th>\n",
              "      <td>disse</td>\n",
              "      <td>país</td>\n",
              "    </tr>\n",
              "    <tr>\n",
              "      <th>8</th>\n",
              "      <td>rio</td>\n",
              "      <td>pasta</td>\n",
              "    </tr>\n",
              "    <tr>\n",
              "      <th>9</th>\n",
              "      <td>justiça</td>\n",
              "      <td>parte</td>\n",
              "    </tr>\n",
              "    <tr>\n",
              "      <th>10</th>\n",
              "      <td>chefe</td>\n",
              "      <td>médio</td>\n",
              "    </tr>\n",
              "  </tbody>\n",
              "</table>\n",
              "</div>"
            ],
            "text/plain": [
              "   Dice before Term A Time Dice after Term A Time\n",
              "1                  federal                  desde\n",
              "2                 ministro                    ter\n",
              "3                  público                 social\n",
              "4                militares                    ser\n",
              "5                  valores                 semana\n",
              "6                  governo                segundo\n",
              "7                    disse                   país\n",
              "8                      rio                  pasta\n",
              "9                  justiça                  parte\n",
              "10                   chefe                  médio"
            ]
          },
          "metadata": {
            "tags": []
          },
          "execution_count": 28
        }
      ]
    },
    {
      "cell_type": "markdown",
      "metadata": {
        "colab_type": "text",
        "id": "WpghjeDzNP4Y"
      },
      "source": [
        "##### Top-10 palavras associadas aos Top-5 Documentos de 'Brasil'"
      ]
    },
    {
      "cell_type": "code",
      "metadata": {
        "id": "9mDvBdIhNZJV",
        "colab_type": "code",
        "outputId": "e38bf3aa-d16b-43f6-85ec-20917898f677",
        "colab": {
          "base_uri": "https://localhost:8080/",
          "height": 347
        }
      },
      "source": [
        "table_dice = pd.DataFrame()\n",
        "table_dice['Dice before Term A Time'] = table_4['Dice']\n",
        "table_dice['Dice after Term A Time'] = table_top4['Dice']\n",
        "table_dice"
      ],
      "execution_count": 0,
      "outputs": [
        {
          "output_type": "execute_result",
          "data": {
            "text/html": [
              "<div>\n",
              "<style scoped>\n",
              "    .dataframe tbody tr th:only-of-type {\n",
              "        vertical-align: middle;\n",
              "    }\n",
              "\n",
              "    .dataframe tbody tr th {\n",
              "        vertical-align: top;\n",
              "    }\n",
              "\n",
              "    .dataframe thead th {\n",
              "        text-align: right;\n",
              "    }\n",
              "</style>\n",
              "<table border=\"1\" class=\"dataframe\">\n",
              "  <thead>\n",
              "    <tr style=\"text-align: right;\">\n",
              "      <th></th>\n",
              "      <th>Dice before Term A Time</th>\n",
              "      <th>Dice after Term A Time</th>\n",
              "    </tr>\n",
              "  </thead>\n",
              "  <tbody>\n",
              "    <tr>\n",
              "      <th>1</th>\n",
              "      <td>bolsonaro</td>\n",
              "      <td>vida</td>\n",
              "    </tr>\n",
              "    <tr>\n",
              "      <th>2</th>\n",
              "      <td>sobre</td>\n",
              "      <td>vai</td>\n",
              "    </tr>\n",
              "    <tr>\n",
              "      <th>3</th>\n",
              "      <td>ainda</td>\n",
              "      <td>sobre</td>\n",
              "    </tr>\n",
              "    <tr>\n",
              "      <th>4</th>\n",
              "      <td>governo</td>\n",
              "      <td>país</td>\n",
              "    </tr>\n",
              "    <tr>\n",
              "      <th>5</th>\n",
              "      <td>ser</td>\n",
              "      <td>parte</td>\n",
              "    </tr>\n",
              "    <tr>\n",
              "      <th>6</th>\n",
              "      <td>presidente</td>\n",
              "      <td>mundo</td>\n",
              "    </tr>\n",
              "    <tr>\n",
              "      <th>7</th>\n",
              "      <td>anos</td>\n",
              "      <td>ministro</td>\n",
              "    </tr>\n",
              "    <tr>\n",
              "      <th>8</th>\n",
              "      <td>país</td>\n",
              "      <td>maior</td>\n",
              "    </tr>\n",
              "    <tr>\n",
              "      <th>9</th>\n",
              "      <td>sociais</td>\n",
              "      <td>governo</td>\n",
              "    </tr>\n",
              "    <tr>\n",
              "      <th>10</th>\n",
              "      <td>outros</td>\n",
              "      <td>fazer</td>\n",
              "    </tr>\n",
              "  </tbody>\n",
              "</table>\n",
              "</div>"
            ],
            "text/plain": [
              "   Dice before Term A Time Dice after Term A Time\n",
              "1                bolsonaro                   vida\n",
              "2                    sobre                    vai\n",
              "3                    ainda                  sobre\n",
              "4                  governo                   país\n",
              "5                      ser                  parte\n",
              "6               presidente                  mundo\n",
              "7                     anos               ministro\n",
              "8                     país                  maior\n",
              "9                  sociais                governo\n",
              "10                  outros                  fazer"
            ]
          },
          "metadata": {
            "tags": []
          },
          "execution_count": 29
        }
      ]
    },
    {
      "cell_type": "markdown",
      "metadata": {
        "colab_type": "text",
        "id": "3Ozfw9w8NQJI"
      },
      "source": [
        "##### Top-10 palavras associadas aos Top-5 Documentos de 'Economia'"
      ]
    },
    {
      "cell_type": "code",
      "metadata": {
        "colab_type": "code",
        "outputId": "440366e2-fa84-405c-93f3-e9b0ce2ae318",
        "id": "gcO1mkqINQJJ",
        "colab": {
          "base_uri": "https://localhost:8080/",
          "height": 347
        }
      },
      "source": [
        "table_dice = pd.DataFrame()\n",
        "table_dice['Dice before Term A Time'] = table_5['Dice']\n",
        "table_dice['Dice after Term A Time'] = table_top5['Dice']\n",
        "table_dice"
      ],
      "execution_count": 0,
      "outputs": [
        {
          "output_type": "execute_result",
          "data": {
            "text/html": [
              "<div>\n",
              "<style scoped>\n",
              "    .dataframe tbody tr th:only-of-type {\n",
              "        vertical-align: middle;\n",
              "    }\n",
              "\n",
              "    .dataframe tbody tr th {\n",
              "        vertical-align: top;\n",
              "    }\n",
              "\n",
              "    .dataframe thead th {\n",
              "        text-align: right;\n",
              "    }\n",
              "</style>\n",
              "<table border=\"1\" class=\"dataframe\">\n",
              "  <thead>\n",
              "    <tr style=\"text-align: right;\">\n",
              "      <th></th>\n",
              "      <th>Dice before Term A Time</th>\n",
              "      <th>Dice after Term A Time</th>\n",
              "    </tr>\n",
              "  </thead>\n",
              "  <tbody>\n",
              "    <tr>\n",
              "      <th>1</th>\n",
              "      <td>reforma</td>\n",
              "      <td>sobre</td>\n",
              "    </tr>\n",
              "    <tr>\n",
              "      <th>2</th>\n",
              "      <td>previdência</td>\n",
              "      <td>ser</td>\n",
              "    </tr>\n",
              "    <tr>\n",
              "      <th>3</th>\n",
              "      <td>mercado</td>\n",
              "      <td>relação</td>\n",
              "    </tr>\n",
              "    <tr>\n",
              "      <th>4</th>\n",
              "      <td>econ</td>\n",
              "      <td>pouco</td>\n",
              "    </tr>\n",
              "    <tr>\n",
              "      <th>5</th>\n",
              "      <td>governo</td>\n",
              "      <td>mercado</td>\n",
              "    </tr>\n",
              "    <tr>\n",
              "      <th>6</th>\n",
              "      <td>menos</td>\n",
              "      <td>dinheiro</td>\n",
              "    </tr>\n",
              "    <tr>\n",
              "      <th>7</th>\n",
              "      <td>mica</td>\n",
              "      <td>crise</td>\n",
              "    </tr>\n",
              "    <tr>\n",
              "      <th>8</th>\n",
              "      <td>política</td>\n",
              "      <td>agora</td>\n",
              "    </tr>\n",
              "    <tr>\n",
              "      <th>9</th>\n",
              "      <td>presidente</td>\n",
              "      <td>vez</td>\n",
              "    </tr>\n",
              "    <tr>\n",
              "      <th>10</th>\n",
              "      <td>ministro</td>\n",
              "      <td>tudo</td>\n",
              "    </tr>\n",
              "  </tbody>\n",
              "</table>\n",
              "</div>"
            ],
            "text/plain": [
              "   Dice before Term A Time Dice after Term A Time\n",
              "1                  reforma                  sobre\n",
              "2              previdência                    ser\n",
              "3                  mercado                relação\n",
              "4                     econ                  pouco\n",
              "5                  governo                mercado\n",
              "6                    menos               dinheiro\n",
              "7                     mica                  crise\n",
              "8                 política                  agora\n",
              "9               presidente                    vez\n",
              "10                ministro                   tudo"
            ]
          },
          "metadata": {
            "tags": []
          },
          "execution_count": 30
        }
      ]
    },
    {
      "cell_type": "markdown",
      "metadata": {
        "colab_type": "text",
        "id": "9myz6DhDN5dX"
      },
      "source": [
        "#### Top-10 Documentos\n",
        "\n",
        "Expansão de consulta para os top-10 documentos das consultas selecionadas inicialmente."
      ]
    },
    {
      "cell_type": "code",
      "metadata": {
        "colab_type": "code",
        "id": "cFZ1i0IiN5dZ",
        "colab": {}
      },
      "source": [
        "k = 10\n",
        "ranking_docs1 = top_docs(queries[0], k)\n",
        "ranking_docs2 = top_docs(queries[1], k)\n",
        "ranking_docs3 = top_docs(queries[2], k)\n",
        "ranking_docs4 = top_docs(queries[3], k)\n",
        "ranking_docs5 = top_docs(queries[4], k)"
      ],
      "execution_count": 0,
      "outputs": []
    },
    {
      "cell_type": "code",
      "metadata": {
        "colab_type": "code",
        "id": "KiUO7wGhN5df",
        "colab": {}
      },
      "source": [
        "table_top1 = create_metrics_table(queries[0], ranking_docs1, k)\n",
        "table_top2 = create_metrics_table(queries[1], ranking_docs2, k)\n",
        "table_top3 = create_metrics_table(queries[2], ranking_docs3, k)\n",
        "table_top4 = create_metrics_table(queries[3], ranking_docs4, k)\n",
        "table_top5 = create_metrics_table(queries[4], ranking_docs5, k)"
      ],
      "execution_count": 0,
      "outputs": []
    },
    {
      "cell_type": "markdown",
      "metadata": {
        "colab_type": "text",
        "id": "NmeQfVhPN5di"
      },
      "source": [
        "##### Top-10 palavras associadas aos Top-10 Documentos de 'Bolsonaro'"
      ]
    },
    {
      "cell_type": "code",
      "metadata": {
        "colab_type": "code",
        "outputId": "ff847e72-dcdd-43e9-bcf7-133a45fd50ec",
        "id": "uwi6gXuIN5dk",
        "colab": {
          "base_uri": "https://localhost:8080/",
          "height": 347
        }
      },
      "source": [
        "table_dice = pd.DataFrame()\n",
        "table_dice['Dice before Term A Time'] = table_1['Dice']\n",
        "table_dice['Dice after Term A Time'] = table_top1['Dice']\n",
        "table_dice"
      ],
      "execution_count": 0,
      "outputs": [
        {
          "output_type": "execute_result",
          "data": {
            "text/html": [
              "<div>\n",
              "<style scoped>\n",
              "    .dataframe tbody tr th:only-of-type {\n",
              "        vertical-align: middle;\n",
              "    }\n",
              "\n",
              "    .dataframe tbody tr th {\n",
              "        vertical-align: top;\n",
              "    }\n",
              "\n",
              "    .dataframe thead th {\n",
              "        text-align: right;\n",
              "    }\n",
              "</style>\n",
              "<table border=\"1\" class=\"dataframe\">\n",
              "  <thead>\n",
              "    <tr style=\"text-align: right;\">\n",
              "      <th></th>\n",
              "      <th>Dice before Term A Time</th>\n",
              "      <th>Dice after Term A Time</th>\n",
              "    </tr>\n",
              "  </thead>\n",
              "  <tbody>\n",
              "    <tr>\n",
              "      <th>1</th>\n",
              "      <td>presidente</td>\n",
              "      <td>presidente</td>\n",
              "    </tr>\n",
              "    <tr>\n",
              "      <th>2</th>\n",
              "      <td>brasil</td>\n",
              "      <td>fazer</td>\n",
              "    </tr>\n",
              "    <tr>\n",
              "      <th>3</th>\n",
              "      <td>governo</td>\n",
              "      <td>sobre</td>\n",
              "    </tr>\n",
              "    <tr>\n",
              "      <th>4</th>\n",
              "      <td>brasileiro</td>\n",
              "      <td>ser</td>\n",
              "    </tr>\n",
              "    <tr>\n",
              "      <th>5</th>\n",
              "      <td>ministro</td>\n",
              "      <td>dois</td>\n",
              "    </tr>\n",
              "    <tr>\n",
              "      <th>6</th>\n",
              "      <td>político</td>\n",
              "      <td>país</td>\n",
              "    </tr>\n",
              "    <tr>\n",
              "      <th>7</th>\n",
              "      <td>brasileira</td>\n",
              "      <td>outros</td>\n",
              "    </tr>\n",
              "    <tr>\n",
              "      <th>8</th>\n",
              "      <td>ainda</td>\n",
              "      <td>maior</td>\n",
              "    </tr>\n",
              "    <tr>\n",
              "      <th>9</th>\n",
              "      <td>paulo</td>\n",
              "      <td>disse</td>\n",
              "    </tr>\n",
              "    <tr>\n",
              "      <th>10</th>\n",
              "      <td>federal</td>\n",
              "      <td>dia</td>\n",
              "    </tr>\n",
              "  </tbody>\n",
              "</table>\n",
              "</div>"
            ],
            "text/plain": [
              "   Dice before Term A Time Dice after Term A Time\n",
              "1               presidente             presidente\n",
              "2                   brasil                  fazer\n",
              "3                  governo                  sobre\n",
              "4               brasileiro                    ser\n",
              "5                 ministro                   dois\n",
              "6                 político                   país\n",
              "7               brasileira                 outros\n",
              "8                    ainda                  maior\n",
              "9                    paulo                  disse\n",
              "10                 federal                    dia"
            ]
          },
          "metadata": {
            "tags": []
          },
          "execution_count": 33
        }
      ]
    },
    {
      "cell_type": "markdown",
      "metadata": {
        "colab_type": "text",
        "id": "XPbP8TBSN5dp"
      },
      "source": [
        "##### Top-10 palavras associadas aos Top-10 Documentos de 'Educação'"
      ]
    },
    {
      "cell_type": "code",
      "metadata": {
        "colab_type": "code",
        "outputId": "e034c955-3536-4df7-b05c-d19a66b54145",
        "id": "3vgYR--MN5dq",
        "colab": {
          "base_uri": "https://localhost:8080/",
          "height": 347
        }
      },
      "source": [
        "table_dice = pd.DataFrame()\n",
        "table_dice['Dice before Term A Time'] = table_2['Dice']\n",
        "table_dice['Dice after Term A Time'] = table_top2['Dice']\n",
        "table_dice"
      ],
      "execution_count": 0,
      "outputs": [
        {
          "output_type": "execute_result",
          "data": {
            "text/html": [
              "<div>\n",
              "<style scoped>\n",
              "    .dataframe tbody tr th:only-of-type {\n",
              "        vertical-align: middle;\n",
              "    }\n",
              "\n",
              "    .dataframe tbody tr th {\n",
              "        vertical-align: top;\n",
              "    }\n",
              "\n",
              "    .dataframe thead th {\n",
              "        text-align: right;\n",
              "    }\n",
              "</style>\n",
              "<table border=\"1\" class=\"dataframe\">\n",
              "  <thead>\n",
              "    <tr style=\"text-align: right;\">\n",
              "      <th></th>\n",
              "      <th>Dice before Term A Time</th>\n",
              "      <th>Dice after Term A Time</th>\n",
              "    </tr>\n",
              "  </thead>\n",
              "  <tbody>\n",
              "    <tr>\n",
              "      <th>1</th>\n",
              "      <td>alunos</td>\n",
              "      <td>sobre</td>\n",
              "    </tr>\n",
              "    <tr>\n",
              "      <th>2</th>\n",
              "      <td>escolas</td>\n",
              "      <td>ser</td>\n",
              "    </tr>\n",
              "    <tr>\n",
              "      <th>3</th>\n",
              "      <td>social</td>\n",
              "      <td>presidente</td>\n",
              "    </tr>\n",
              "    <tr>\n",
              "      <th>4</th>\n",
              "      <td>mudanças</td>\n",
              "      <td>onde</td>\n",
              "    </tr>\n",
              "    <tr>\n",
              "      <th>5</th>\n",
              "      <td>escola</td>\n",
              "      <td>ainda</td>\n",
              "    </tr>\n",
              "    <tr>\n",
              "      <th>6</th>\n",
              "      <td>discurso</td>\n",
              "      <td>ter</td>\n",
              "    </tr>\n",
              "    <tr>\n",
              "      <th>7</th>\n",
              "      <td>comissão</td>\n",
              "      <td>segundo</td>\n",
              "    </tr>\n",
              "    <tr>\n",
              "      <th>8</th>\n",
              "      <td>necessidade</td>\n",
              "      <td>pessoas</td>\n",
              "    </tr>\n",
              "    <tr>\n",
              "      <th>9</th>\n",
              "      <td>jovens</td>\n",
              "      <td>outras</td>\n",
              "    </tr>\n",
              "    <tr>\n",
              "      <th>10</th>\n",
              "      <td>pasta</td>\n",
              "      <td>maior</td>\n",
              "    </tr>\n",
              "  </tbody>\n",
              "</table>\n",
              "</div>"
            ],
            "text/plain": [
              "   Dice before Term A Time Dice after Term A Time\n",
              "1                   alunos                  sobre\n",
              "2                  escolas                    ser\n",
              "3                   social             presidente\n",
              "4                 mudanças                   onde\n",
              "5                   escola                  ainda\n",
              "6                 discurso                    ter\n",
              "7                 comissão                segundo\n",
              "8              necessidade                pessoas\n",
              "9                   jovens                 outras\n",
              "10                   pasta                  maior"
            ]
          },
          "metadata": {
            "tags": []
          },
          "execution_count": 34
        }
      ]
    },
    {
      "cell_type": "markdown",
      "metadata": {
        "colab_type": "text",
        "id": "tfMNNPQXN5dx"
      },
      "source": [
        "##### Top-10 palavras associadas aos Top-10 Documentos de 'Ministério'"
      ]
    },
    {
      "cell_type": "code",
      "metadata": {
        "colab_type": "code",
        "outputId": "8d3747ed-ff50-43ca-9abd-51da516d840e",
        "id": "rkIJpsq9N5dy",
        "colab": {
          "base_uri": "https://localhost:8080/",
          "height": 347
        }
      },
      "source": [
        "table_dice = pd.DataFrame()\n",
        "table_dice['Dice before Term A Time'] = table_3['Dice']\n",
        "table_dice['Dice after Term A Time'] = table_top3['Dice']\n",
        "table_dice"
      ],
      "execution_count": 0,
      "outputs": [
        {
          "output_type": "execute_result",
          "data": {
            "text/html": [
              "<div>\n",
              "<style scoped>\n",
              "    .dataframe tbody tr th:only-of-type {\n",
              "        vertical-align: middle;\n",
              "    }\n",
              "\n",
              "    .dataframe tbody tr th {\n",
              "        vertical-align: top;\n",
              "    }\n",
              "\n",
              "    .dataframe thead th {\n",
              "        text-align: right;\n",
              "    }\n",
              "</style>\n",
              "<table border=\"1\" class=\"dataframe\">\n",
              "  <thead>\n",
              "    <tr style=\"text-align: right;\">\n",
              "      <th></th>\n",
              "      <th>Dice before Term A Time</th>\n",
              "      <th>Dice after Term A Time</th>\n",
              "    </tr>\n",
              "  </thead>\n",
              "  <tbody>\n",
              "    <tr>\n",
              "      <th>1</th>\n",
              "      <td>federal</td>\n",
              "      <td>ser</td>\n",
              "    </tr>\n",
              "    <tr>\n",
              "      <th>2</th>\n",
              "      <td>ministro</td>\n",
              "      <td>governo</td>\n",
              "    </tr>\n",
              "    <tr>\n",
              "      <th>3</th>\n",
              "      <td>público</td>\n",
              "      <td>ter</td>\n",
              "    </tr>\n",
              "    <tr>\n",
              "      <th>4</th>\n",
              "      <td>militares</td>\n",
              "      <td>país</td>\n",
              "    </tr>\n",
              "    <tr>\n",
              "      <th>5</th>\n",
              "      <td>valores</td>\n",
              "      <td>parte</td>\n",
              "    </tr>\n",
              "    <tr>\n",
              "      <th>6</th>\n",
              "      <td>governo</td>\n",
              "      <td>federal</td>\n",
              "    </tr>\n",
              "    <tr>\n",
              "      <th>7</th>\n",
              "      <td>disse</td>\n",
              "      <td>anos</td>\n",
              "    </tr>\n",
              "    <tr>\n",
              "      <th>8</th>\n",
              "      <td>rio</td>\n",
              "      <td>ainda</td>\n",
              "    </tr>\n",
              "    <tr>\n",
              "      <th>9</th>\n",
              "      <td>justiça</td>\n",
              "      <td>três</td>\n",
              "    </tr>\n",
              "    <tr>\n",
              "      <th>10</th>\n",
              "      <td>chefe</td>\n",
              "      <td>social</td>\n",
              "    </tr>\n",
              "  </tbody>\n",
              "</table>\n",
              "</div>"
            ],
            "text/plain": [
              "   Dice before Term A Time Dice after Term A Time\n",
              "1                  federal                    ser\n",
              "2                 ministro                governo\n",
              "3                  público                    ter\n",
              "4                militares                   país\n",
              "5                  valores                  parte\n",
              "6                  governo                federal\n",
              "7                    disse                   anos\n",
              "8                      rio                  ainda\n",
              "9                  justiça                   três\n",
              "10                   chefe                 social"
            ]
          },
          "metadata": {
            "tags": []
          },
          "execution_count": 35
        }
      ]
    },
    {
      "cell_type": "markdown",
      "metadata": {
        "colab_type": "text",
        "id": "KBNUpUilN5d5"
      },
      "source": [
        "##### Top-10 palavras associadas aos Top-10 Documentos de 'Brasil'"
      ]
    },
    {
      "cell_type": "code",
      "metadata": {
        "colab_type": "code",
        "outputId": "2889f8a2-1351-4d24-e93c-a50441e68c32",
        "id": "YRjs8YHiN5d6",
        "colab": {
          "base_uri": "https://localhost:8080/",
          "height": 347
        }
      },
      "source": [
        "table_dice = pd.DataFrame()\n",
        "table_dice['Dice before Term A Time'] = table_4['Dice']\n",
        "table_dice['Dice after Term A Time'] = table_top4['Dice']\n",
        "table_dice"
      ],
      "execution_count": 0,
      "outputs": [
        {
          "output_type": "execute_result",
          "data": {
            "text/html": [
              "<div>\n",
              "<style scoped>\n",
              "    .dataframe tbody tr th:only-of-type {\n",
              "        vertical-align: middle;\n",
              "    }\n",
              "\n",
              "    .dataframe tbody tr th {\n",
              "        vertical-align: top;\n",
              "    }\n",
              "\n",
              "    .dataframe thead th {\n",
              "        text-align: right;\n",
              "    }\n",
              "</style>\n",
              "<table border=\"1\" class=\"dataframe\">\n",
              "  <thead>\n",
              "    <tr style=\"text-align: right;\">\n",
              "      <th></th>\n",
              "      <th>Dice before Term A Time</th>\n",
              "      <th>Dice after Term A Time</th>\n",
              "    </tr>\n",
              "  </thead>\n",
              "  <tbody>\n",
              "    <tr>\n",
              "      <th>1</th>\n",
              "      <td>bolsonaro</td>\n",
              "      <td>país</td>\n",
              "    </tr>\n",
              "    <tr>\n",
              "      <th>2</th>\n",
              "      <td>sobre</td>\n",
              "      <td>parte</td>\n",
              "    </tr>\n",
              "    <tr>\n",
              "      <th>3</th>\n",
              "      <td>ainda</td>\n",
              "      <td>governo</td>\n",
              "    </tr>\n",
              "    <tr>\n",
              "      <th>4</th>\n",
              "      <td>governo</td>\n",
              "      <td>vida</td>\n",
              "    </tr>\n",
              "    <tr>\n",
              "      <th>5</th>\n",
              "      <td>ser</td>\n",
              "      <td>sobre</td>\n",
              "    </tr>\n",
              "    <tr>\n",
              "      <th>6</th>\n",
              "      <td>presidente</td>\n",
              "      <td>ser</td>\n",
              "    </tr>\n",
              "    <tr>\n",
              "      <th>7</th>\n",
              "      <td>anos</td>\n",
              "      <td>brasileiro</td>\n",
              "    </tr>\n",
              "    <tr>\n",
              "      <th>8</th>\n",
              "      <td>país</td>\n",
              "      <td>brasileira</td>\n",
              "    </tr>\n",
              "    <tr>\n",
              "      <th>9</th>\n",
              "      <td>sociais</td>\n",
              "      <td>anos</td>\n",
              "    </tr>\n",
              "    <tr>\n",
              "      <th>10</th>\n",
              "      <td>outros</td>\n",
              "      <td>ainda</td>\n",
              "    </tr>\n",
              "  </tbody>\n",
              "</table>\n",
              "</div>"
            ],
            "text/plain": [
              "   Dice before Term A Time Dice after Term A Time\n",
              "1                bolsonaro                   país\n",
              "2                    sobre                  parte\n",
              "3                    ainda                governo\n",
              "4                  governo                   vida\n",
              "5                      ser                  sobre\n",
              "6               presidente                    ser\n",
              "7                     anos             brasileiro\n",
              "8                     país             brasileira\n",
              "9                  sociais                   anos\n",
              "10                  outros                  ainda"
            ]
          },
          "metadata": {
            "tags": []
          },
          "execution_count": 36
        }
      ]
    },
    {
      "cell_type": "markdown",
      "metadata": {
        "colab_type": "text",
        "id": "wznLUvOaN5eB"
      },
      "source": [
        "##### Top-10 palavras associadas aos Top-10 Documentos de 'Economia'"
      ]
    },
    {
      "cell_type": "code",
      "metadata": {
        "colab_type": "code",
        "outputId": "b2514c97-4e32-4322-af89-97f2dafd1768",
        "id": "oKhaeVkjN5eC",
        "colab": {
          "base_uri": "https://localhost:8080/",
          "height": 347
        }
      },
      "source": [
        "table_dice = pd.DataFrame()\n",
        "table_dice['Dice before Term A Time'] = table_5['Dice']\n",
        "table_dice['Dice after Term A Time'] = table_top5['Dice']\n",
        "table_dice"
      ],
      "execution_count": 0,
      "outputs": [
        {
          "output_type": "execute_result",
          "data": {
            "text/html": [
              "<div>\n",
              "<style scoped>\n",
              "    .dataframe tbody tr th:only-of-type {\n",
              "        vertical-align: middle;\n",
              "    }\n",
              "\n",
              "    .dataframe tbody tr th {\n",
              "        vertical-align: top;\n",
              "    }\n",
              "\n",
              "    .dataframe thead th {\n",
              "        text-align: right;\n",
              "    }\n",
              "</style>\n",
              "<table border=\"1\" class=\"dataframe\">\n",
              "  <thead>\n",
              "    <tr style=\"text-align: right;\">\n",
              "      <th></th>\n",
              "      <th>Dice before Term A Time</th>\n",
              "      <th>Dice after Term A Time</th>\n",
              "    </tr>\n",
              "  </thead>\n",
              "  <tbody>\n",
              "    <tr>\n",
              "      <th>1</th>\n",
              "      <td>reforma</td>\n",
              "      <td>sobre</td>\n",
              "    </tr>\n",
              "    <tr>\n",
              "      <th>2</th>\n",
              "      <td>previdência</td>\n",
              "      <td>ser</td>\n",
              "    </tr>\n",
              "    <tr>\n",
              "      <th>3</th>\n",
              "      <td>mercado</td>\n",
              "      <td>econ</td>\n",
              "    </tr>\n",
              "    <tr>\n",
              "      <th>4</th>\n",
              "      <td>econ</td>\n",
              "      <td>todos</td>\n",
              "    </tr>\n",
              "    <tr>\n",
              "      <th>5</th>\n",
              "      <td>governo</td>\n",
              "      <td>ter</td>\n",
              "    </tr>\n",
              "    <tr>\n",
              "      <th>6</th>\n",
              "      <td>menos</td>\n",
              "      <td>outros</td>\n",
              "    </tr>\n",
              "    <tr>\n",
              "      <th>7</th>\n",
              "      <td>mica</td>\n",
              "      <td>mica</td>\n",
              "    </tr>\n",
              "    <tr>\n",
              "      <th>8</th>\n",
              "      <td>política</td>\n",
              "      <td>ainda</td>\n",
              "    </tr>\n",
              "    <tr>\n",
              "      <th>9</th>\n",
              "      <td>presidente</td>\n",
              "      <td>relação</td>\n",
              "    </tr>\n",
              "    <tr>\n",
              "      <th>10</th>\n",
              "      <td>ministro</td>\n",
              "      <td>pouco</td>\n",
              "    </tr>\n",
              "  </tbody>\n",
              "</table>\n",
              "</div>"
            ],
            "text/plain": [
              "   Dice before Term A Time Dice after Term A Time\n",
              "1                  reforma                  sobre\n",
              "2              previdência                    ser\n",
              "3                  mercado                   econ\n",
              "4                     econ                  todos\n",
              "5                  governo                    ter\n",
              "6                    menos                 outros\n",
              "7                     mica                   mica\n",
              "8                 política                  ainda\n",
              "9               presidente                relação\n",
              "10                ministro                  pouco"
            ]
          },
          "metadata": {
            "tags": []
          },
          "execution_count": 37
        }
      ]
    },
    {
      "cell_type": "markdown",
      "metadata": {
        "id": "tg2E3yHGrWTB",
        "colab_type": "text"
      },
      "source": [
        ""
      ]
    }
  ]
}