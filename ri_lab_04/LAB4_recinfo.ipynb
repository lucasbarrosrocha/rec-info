{
  "nbformat": 4,
  "nbformat_minor": 0,
  "metadata": {
    "colab": {
      "name": "LAB4_recinfo.ipynb",
      "version": "0.3.2",
      "provenance": [],
      "collapsed_sections": []
    },
    "kernelspec": {
      "name": "python3",
      "display_name": "Python 3"
    }
  },
  "cells": [
    {
      "cell_type": "markdown",
      "metadata": {
        "id": "dE7YXAr6NaLP",
        "colab_type": "text"
      },
      "source": [
        "## Recuperação da Informação\n",
        "####Professor: Leandro Balby\n",
        "####Aluno: Lucas Barros Rocha - 115111579"
      ]
    },
    {
      "cell_type": "code",
      "metadata": {
        "id": "g76lJC4EGSrj",
        "colab_type": "code",
        "colab": {
          "base_uri": "https://localhost:8080/",
          "height": 87
        },
        "outputId": "6b8c3cc4-c625-4fe1-a255-040db8b4b8f0"
      },
      "source": [
        "#bibliotecas\n",
        "\n",
        "import pandas as pd\n",
        "import nltk\n",
        "from nltk.tokenize import RegexpTokenizer\n",
        "import collections\n",
        "import time\n",
        "import re\n",
        "import heapq\n",
        "\n",
        "nltk.download('stopwords')\n",
        "\n",
        "#palavras a serem desconsideradas\n",
        "tknz = RegexpTokenizer(r'(\\b[A-Za-z][a-z]{2,27}\\b)')\n",
        "stopwords = nltk.corpus.stopwords.words('portuguese')\n",
        "\n",
        "#instalação de biblioteca não nativa no colab \n",
        "!pip install memory_profiler\n"
      ],
      "execution_count": 23,
      "outputs": [
        {
          "output_type": "stream",
          "text": [
            "[nltk_data] Downloading package stopwords to /root/nltk_data...\n",
            "[nltk_data]   Package stopwords is already up-to-date!\n",
            "Requirement already satisfied: memory_profiler in /usr/local/lib/python3.6/dist-packages (0.55.0)\n",
            "Requirement already satisfied: psutil in /usr/local/lib/python3.6/dist-packages (from memory_profiler) (5.4.8)\n"
          ],
          "name": "stdout"
        }
      ]
    },
    {
      "cell_type": "markdown",
      "metadata": {
        "id": "3GIcbPaENxlM",
        "colab_type": "text"
      },
      "source": [
        "#### Importando os Dados, que são: notícias retiradas por crawler+scraper de portais de notícas online."
      ]
    },
    {
      "cell_type": "code",
      "metadata": {
        "id": "8KAoTyrjGncP",
        "colab_type": "code",
        "colab": {}
      },
      "source": [
        "result = pd.read_csv('https://raw.githubusercontent.com/lucasbarrosrocha/rec-info/master/dataframes/results.csv')"
      ],
      "execution_count": 0,
      "outputs": []
    },
    {
      "cell_type": "markdown",
      "metadata": {
        "id": "K5B_0cb8OMTD",
        "colab_type": "text"
      },
      "source": [
        "#### 1. Execute o algoritmo ilustrado na Fig. 5.8 do livro texto (pag. 157) para gerar um índice similar o mostrado na Fig. 5.4 (pag. 134). Guarde o índice em disco em formato csv.\n"
      ]
    },
    {
      "cell_type": "code",
      "metadata": {
        "id": "gRHgU4heGs6A",
        "colab_type": "code",
        "colab": {}
      },
      "source": [
        "indexes = {}\n",
        "n = 0\n",
        "\n",
        "for text in result.text:\n",
        "  words = [word for word in tknz.tokenize(text.lower())\n",
        "           if not bool(re.search(r'\\d', word))\n",
        "           and word not in stopwords and len(word) >= 3]  \n",
        "  n += 1\n",
        "  for t in words:\n",
        "    if t not in indexes.keys():\n",
        "      indexes[t] = []\n",
        "    indexes[t].append(n)\n",
        "    \n",
        "for elem in indexes.items():\n",
        "  d = dict(collections.Counter(elem[1]))\n",
        "  indexes[elem[0]] = list(d.items())"
      ],
      "execution_count": 0,
      "outputs": []
    },
    {
      "cell_type": "code",
      "metadata": {
        "id": "5cubP5KRHTyt",
        "colab_type": "code",
        "colab": {}
      },
      "source": [
        "tokens_table = pd.DataFrame()\n",
        "\n",
        "tokens_table['Word'] = [word for word in indexes.keys()]\n",
        "tokens_table['Documents'] = [docs for docs in indexes.values()]\n",
        "\n",
        "tokens_table.to_csv('ranking.csv', encoding='utf-8', index=False)\n",
        "\n",
        "#tokens_table"
      ],
      "execution_count": 0,
      "outputs": []
    },
    {
      "cell_type": "markdown",
      "metadata": {
        "id": "3tfVrtK8Oj8m",
        "colab_type": "text"
      },
      "source": [
        "#### 2. Implemente as abordagens de processamento de consulta documento-por-vez e termo-por-vez (Fig. 5.16 e 5.18)."
      ]
    },
    {
      "cell_type": "code",
      "metadata": {
        "id": "nFon7hm0IEOr",
        "colab_type": "code",
        "colab": {}
      },
      "source": [
        "\n",
        "def doc_a_time(query, indexes, k):\n",
        "    start = time.time()\n",
        "    \n",
        "    query_indexes = [] # Array\n",
        "    rank = [] # HeapQueue, implementation of PriorityQueue\n",
        "    \n",
        "    for word in query.split(\" \"):\n",
        "      if word in indexes.keys():\n",
        "          query_indexes.append(indexes[word])\n",
        "    \n",
        "    for doc in range(1, len(result.text)+1):\n",
        "      doc_score = 0\n",
        "      for index in query_indexes:\n",
        "          for i in index:\n",
        "              if i[0] == doc:\n",
        "                  doc_score += i[1]\n",
        "                  break\n",
        "      if doc_score != 0:\n",
        "        heapq.heappush(rank, (doc_score, doc))\n",
        "    \n",
        "    end = time.time() - start\n",
        "    return heapq.nlargest(k, rank), end"
      ],
      "execution_count": 0,
      "outputs": []
    },
    {
      "cell_type": "code",
      "metadata": {
        "id": "xayi4tK2IFf7",
        "colab_type": "code",
        "colab": {}
      },
      "source": [
        "\n",
        "def term_a_time(query, indexes, k):\n",
        "    start = time.time()\n",
        "    \n",
        "    a = {} # Accumulator HashTable\n",
        "    query_indexes = [] # Array\n",
        "    rank = [] # HeapQueue, implementation of PriorityQueue\n",
        "    \n",
        "    for word in query.split(\" \"):\n",
        "      if word in indexes.keys():\n",
        "          query_indexes.append(indexes[word])\n",
        "    \n",
        "    for index in query_indexes:\n",
        "      for i in index:\n",
        "          doc = i[0]\n",
        "          if doc not in a.keys():\n",
        "              a[doc] = 0\n",
        "          a[doc] += i[1]\n",
        "    \n",
        "    for (doc, score) in a.items():\n",
        "      heapq.heappush(rank, (score, doc))\n",
        "        \n",
        "    end = time.time() - start\n",
        "    return heapq.nlargest(k, rank), end"
      ],
      "execution_count": 0,
      "outputs": []
    },
    {
      "cell_type": "code",
      "metadata": {
        "id": "wP1jHF5aIJfY",
        "colab_type": "code",
        "colab": {}
      },
      "source": [
        "queries = [\"brasil\", \"educação\", \"governo\", \"futebol\", \"economia\", \"política\", \"cultura\"]"
      ],
      "execution_count": 0,
      "outputs": []
    },
    {
      "cell_type": "code",
      "metadata": {
        "id": "dUwklsDaIL05",
        "colab_type": "code",
        "colab": {}
      },
      "source": [
        "\n",
        "k = 10\n",
        "results_doc = []\n",
        "results_term = []\n",
        "times_doc = []\n",
        "times_term = []\n",
        "\n",
        "for query in queries:\n",
        "  score_doc, time_doc = doc_a_time(query, indexes, k)\n",
        "  results_doc.append(score_doc)\n",
        "  times_doc.append(time_doc)\n",
        "  \n",
        "  score_term, time_term = term_a_time(query, indexes, k)\n",
        "  results_term.append(score_term)\n",
        "  times_term.append(time_term)"
      ],
      "execution_count": 0,
      "outputs": []
    },
    {
      "cell_type": "code",
      "metadata": {
        "id": "U9to4fmJIPOD",
        "colab_type": "code",
        "colab": {
          "base_uri": "https://localhost:8080/",
          "height": 257
        },
        "outputId": "d1dca58e-4f97-4540-ee09-fe8c5a5a1b22"
      },
      "source": [
        "queries_df = pd.DataFrame()\n",
        "queries_df['Query'] = queries\n",
        "queries_df['Document at a time'] = results_doc\n",
        "queries_df['Term at a time'] = results_term\n",
        "queries_df['Comparative'] = queries_df['Document at a time'] == queries_df['Term at a time']\n",
        "queries_df.index+=1\n",
        "queries_df"
      ],
      "execution_count": 37,
      "outputs": [
        {
          "output_type": "execute_result",
          "data": {
            "text/html": [
              "<div>\n",
              "<style scoped>\n",
              "    .dataframe tbody tr th:only-of-type {\n",
              "        vertical-align: middle;\n",
              "    }\n",
              "\n",
              "    .dataframe tbody tr th {\n",
              "        vertical-align: top;\n",
              "    }\n",
              "\n",
              "    .dataframe thead th {\n",
              "        text-align: right;\n",
              "    }\n",
              "</style>\n",
              "<table border=\"1\" class=\"dataframe\">\n",
              "  <thead>\n",
              "    <tr style=\"text-align: right;\">\n",
              "      <th></th>\n",
              "      <th>Query</th>\n",
              "      <th>Document at a time</th>\n",
              "      <th>Term at a time</th>\n",
              "      <th>Comparative</th>\n",
              "    </tr>\n",
              "  </thead>\n",
              "  <tbody>\n",
              "    <tr>\n",
              "      <th>1</th>\n",
              "      <td>brasil</td>\n",
              "      <td>[(47, 151), (15, 166), (11, 19), (10, 26), (9,...</td>\n",
              "      <td>[(47, 151), (15, 166), (11, 19), (10, 26), (9,...</td>\n",
              "      <td>True</td>\n",
              "    </tr>\n",
              "    <tr>\n",
              "      <th>2</th>\n",
              "      <td>educação</td>\n",
              "      <td>[]</td>\n",
              "      <td>[]</td>\n",
              "      <td>True</td>\n",
              "    </tr>\n",
              "    <tr>\n",
              "      <th>3</th>\n",
              "      <td>governo</td>\n",
              "      <td>[(15, 173), (13, 166), (10, 248), (10, 115), (...</td>\n",
              "      <td>[(15, 173), (13, 166), (10, 248), (10, 115), (...</td>\n",
              "      <td>True</td>\n",
              "    </tr>\n",
              "    <tr>\n",
              "      <th>4</th>\n",
              "      <td>futebol</td>\n",
              "      <td>[(8, 242), (7, 118), (7, 47), (6, 115), (5, 21...</td>\n",
              "      <td>[(8, 242), (7, 118), (7, 47), (6, 115), (5, 21...</td>\n",
              "      <td>True</td>\n",
              "    </tr>\n",
              "    <tr>\n",
              "      <th>5</th>\n",
              "      <td>economia</td>\n",
              "      <td>[(10, 138), (8, 125), (6, 127), (6, 69), (6, 3...</td>\n",
              "      <td>[(10, 138), (8, 125), (6, 127), (6, 69), (6, 3...</td>\n",
              "      <td>True</td>\n",
              "    </tr>\n",
              "    <tr>\n",
              "      <th>6</th>\n",
              "      <td>política</td>\n",
              "      <td>[]</td>\n",
              "      <td>[]</td>\n",
              "      <td>True</td>\n",
              "    </tr>\n",
              "    <tr>\n",
              "      <th>7</th>\n",
              "      <td>cultura</td>\n",
              "      <td>[(10, 124), (4, 158), (3, 248), (3, 165), (2, ...</td>\n",
              "      <td>[(10, 124), (4, 158), (3, 248), (3, 165), (2, ...</td>\n",
              "      <td>True</td>\n",
              "    </tr>\n",
              "  </tbody>\n",
              "</table>\n",
              "</div>"
            ],
            "text/plain": [
              "      Query                                 Document at a time  \\\n",
              "1    brasil  [(47, 151), (15, 166), (11, 19), (10, 26), (9,...   \n",
              "2  educação                                                 []   \n",
              "3   governo  [(15, 173), (13, 166), (10, 248), (10, 115), (...   \n",
              "4   futebol  [(8, 242), (7, 118), (7, 47), (6, 115), (5, 21...   \n",
              "5  economia  [(10, 138), (8, 125), (6, 127), (6, 69), (6, 3...   \n",
              "6  política                                                 []   \n",
              "7   cultura  [(10, 124), (4, 158), (3, 248), (3, 165), (2, ...   \n",
              "\n",
              "                                      Term at a time  Comparative  \n",
              "1  [(47, 151), (15, 166), (11, 19), (10, 26), (9,...         True  \n",
              "2                                                 []         True  \n",
              "3  [(15, 173), (13, 166), (10, 248), (10, 115), (...         True  \n",
              "4  [(8, 242), (7, 118), (7, 47), (6, 115), (5, 21...         True  \n",
              "5  [(10, 138), (8, 125), (6, 127), (6, 69), (6, 3...         True  \n",
              "6                                                 []         True  \n",
              "7  [(10, 124), (4, 158), (3, 248), (3, 165), (2, ...         True  "
            ]
          },
          "metadata": {
            "tags": []
          },
          "execution_count": 37
        }
      ]
    },
    {
      "cell_type": "code",
      "metadata": {
        "id": "4orNYmOoIm0e",
        "colab_type": "code",
        "colab": {
          "base_uri": "https://localhost:8080/",
          "height": 257
        },
        "outputId": "53bd0519-044d-42f3-a069-4aa4c54547a2"
      },
      "source": [
        "\n",
        "queries_tempo_df = pd.DataFrame()\n",
        "queries_tempo_df['Average time: Document at a time (ms)'] = times_doc\n",
        "queries_tempo_df['Average time: Term at a time (ms)'] = times_term\n",
        "queries_tempo_df.index+=1\n",
        "queries_tempo_df"
      ],
      "execution_count": 18,
      "outputs": [
        {
          "output_type": "execute_result",
          "data": {
            "text/html": [
              "<div>\n",
              "<style scoped>\n",
              "    .dataframe tbody tr th:only-of-type {\n",
              "        vertical-align: middle;\n",
              "    }\n",
              "\n",
              "    .dataframe tbody tr th {\n",
              "        vertical-align: top;\n",
              "    }\n",
              "\n",
              "    .dataframe thead th {\n",
              "        text-align: right;\n",
              "    }\n",
              "</style>\n",
              "<table border=\"1\" class=\"dataframe\">\n",
              "  <thead>\n",
              "    <tr style=\"text-align: right;\">\n",
              "      <th></th>\n",
              "      <th>Average time: Document at a time (ms)</th>\n",
              "      <th>Average time: Term at a time (ms)</th>\n",
              "    </tr>\n",
              "  </thead>\n",
              "  <tbody>\n",
              "    <tr>\n",
              "      <th>1</th>\n",
              "      <td>0.001626</td>\n",
              "      <td>0.000077</td>\n",
              "    </tr>\n",
              "    <tr>\n",
              "      <th>2</th>\n",
              "      <td>0.000516</td>\n",
              "      <td>0.000021</td>\n",
              "    </tr>\n",
              "    <tr>\n",
              "      <th>3</th>\n",
              "      <td>0.001372</td>\n",
              "      <td>0.000070</td>\n",
              "    </tr>\n",
              "    <tr>\n",
              "      <th>4</th>\n",
              "      <td>0.000386</td>\n",
              "      <td>0.000017</td>\n",
              "    </tr>\n",
              "    <tr>\n",
              "      <th>5</th>\n",
              "      <td>0.000746</td>\n",
              "      <td>0.000034</td>\n",
              "    </tr>\n",
              "    <tr>\n",
              "      <th>6</th>\n",
              "      <td>0.001518</td>\n",
              "      <td>0.000062</td>\n",
              "    </tr>\n",
              "    <tr>\n",
              "      <th>7</th>\n",
              "      <td>0.000435</td>\n",
              "      <td>0.000017</td>\n",
              "    </tr>\n",
              "  </tbody>\n",
              "</table>\n",
              "</div>"
            ],
            "text/plain": [
              "   Average time: Document at a time (ms)  Average time: Term at a time (ms)\n",
              "1                               0.001626                           0.000077\n",
              "2                               0.000516                           0.000021\n",
              "3                               0.001372                           0.000070\n",
              "4                               0.000386                           0.000017\n",
              "5                               0.000746                           0.000034\n",
              "6                               0.001518                           0.000062\n",
              "7                               0.000435                           0.000017"
            ]
          },
          "metadata": {
            "tags": []
          },
          "execution_count": 18
        }
      ]
    },
    {
      "cell_type": "code",
      "metadata": {
        "id": "DaLECkeUJIAs",
        "colab_type": "code",
        "colab": {
          "base_uri": "https://localhost:8080/",
          "height": 123
        },
        "outputId": "9ecbd9f0-f6e6-4927-fc65-a9cca9207f3f"
      },
      "source": [
        "%load_ext memory_profiler\n",
        "\n",
        "print('Documento por vez uso de memória:')\n",
        "%memit doc_a_time(queries[0], indexes, k)\n",
        "\n",
        "print('Termo por vez uso de memória:')\n",
        "%memit term_a_time(queries[0], indexes, k)"
      ],
      "execution_count": 24,
      "outputs": [
        {
          "output_type": "stream",
          "text": [
            "The memory_profiler extension is already loaded. To reload it, use:\n",
            "  %reload_ext memory_profiler\n",
            "Documento por vez uso de memória:\n",
            "peak memory: 205.89 MiB, increment: 0.00 MiB\n",
            "Termo por vez uso de memória:\n",
            "peak memory: 205.89 MiB, increment: 0.00 MiB\n"
          ],
          "name": "stdout"
        }
      ]
    },
    {
      "cell_type": "markdown",
      "metadata": {
        "id": "N6dv3T4HO1zd",
        "colab_type": "text"
      },
      "source": [
        "#### 3. Implemente uma das versões de consulta conjuntiva (AND) (Fig. 5.20 ou 5.21)."
      ]
    },
    {
      "cell_type": "code",
      "metadata": {
        "id": "mP4WvPkuJqBC",
        "colab_type": "code",
        "colab": {}
      },
      "source": [
        "def conj_query(query, indexes, k):\n",
        "  \n",
        "  query_indexes = [] # Array\n",
        "  rank = [] # HeapQueue, implementation of PriorityQueue\n",
        "  \n",
        "  for word in query.split(\" \"):\n",
        "    if word in indexes.keys():\n",
        "        query_indexes.append(indexes[word])\n",
        "  \n",
        "  all_indexes = [item for sublist in query_indexes for item in sublist]\n",
        "  all_indexes.sort() # Sorted Array of all indexes from query terms\n",
        "  \n",
        "  for i in range(len(all_indexes)):\n",
        "    doc_score = 0\n",
        "    d = all_indexes.pop()\n",
        "    repeat = 1\n",
        "    for index in all_indexes:\n",
        "      if index[0] == d[0]:\n",
        "        doc_score += index[1]\n",
        "        repeat += 1\n",
        "    if doc_score != 0 and repeat == len(query_indexes):\n",
        "      doc_score += d[1]\n",
        "      heapq.heappush(rank, (doc_score, d[0]))\n",
        "        \n",
        "  return heapq.nlargest(k, rank)"
      ],
      "execution_count": 0,
      "outputs": []
    },
    {
      "cell_type": "code",
      "metadata": {
        "id": "aBxkDqIlK3aq",
        "colab_type": "code",
        "colab": {}
      },
      "source": [
        "queries_conj = [\"novos ajustes\", \"futebol brasileiro\", \"tudo sobre\", \"esportes estão\", \"jair bolsonaro\"]"
      ],
      "execution_count": 0,
      "outputs": []
    },
    {
      "cell_type": "code",
      "metadata": {
        "id": "kxRgjJdhK76Y",
        "colab_type": "code",
        "colab": {}
      },
      "source": [
        "\n",
        "k = 10\n",
        "results_conj = []\n",
        "\n",
        "for query in queries_conj:\n",
        "  score_conj = conj_query(query, indexes, k)\n",
        "  results_conj.append(score_conj)"
      ],
      "execution_count": 0,
      "outputs": []
    },
    {
      "cell_type": "code",
      "metadata": {
        "id": "fGCVcBI-K-3k",
        "colab_type": "code",
        "colab": {
          "base_uri": "https://localhost:8080/",
          "height": 197
        },
        "outputId": "b3c53fc8-1bde-406b-9f09-6860e4d0940e"
      },
      "source": [
        "\n",
        "conj_queries_df = pd.DataFrame()\n",
        "conj_queries_df['Query'] = queries_conj\n",
        "conj_queries_df['Results'] = results_conj\n",
        "conj_queries_df.index+=1\n",
        "conj_queries_df"
      ],
      "execution_count": 61,
      "outputs": [
        {
          "output_type": "execute_result",
          "data": {
            "text/html": [
              "<div>\n",
              "<style scoped>\n",
              "    .dataframe tbody tr th:only-of-type {\n",
              "        vertical-align: middle;\n",
              "    }\n",
              "\n",
              "    .dataframe tbody tr th {\n",
              "        vertical-align: top;\n",
              "    }\n",
              "\n",
              "    .dataframe thead th {\n",
              "        text-align: right;\n",
              "    }\n",
              "</style>\n",
              "<table border=\"1\" class=\"dataframe\">\n",
              "  <thead>\n",
              "    <tr style=\"text-align: right;\">\n",
              "      <th></th>\n",
              "      <th>Query</th>\n",
              "      <th>Results</th>\n",
              "    </tr>\n",
              "  </thead>\n",
              "  <tbody>\n",
              "    <tr>\n",
              "      <th>1</th>\n",
              "      <td>novos ajustes</td>\n",
              "      <td>[(2, 121), (2, 107)]</td>\n",
              "    </tr>\n",
              "    <tr>\n",
              "      <th>2</th>\n",
              "      <td>futebol brasileiro</td>\n",
              "      <td>[(10, 115), (7, 55), (5, 50), (3, 121), (3, 76...</td>\n",
              "    </tr>\n",
              "    <tr>\n",
              "      <th>3</th>\n",
              "      <td>tudo sobre</td>\n",
              "      <td>[(17, 151), (13, 6), (12, 211), (12, 69), (11,...</td>\n",
              "    </tr>\n",
              "    <tr>\n",
              "      <th>4</th>\n",
              "      <td>esportes estão</td>\n",
              "      <td>[]</td>\n",
              "    </tr>\n",
              "    <tr>\n",
              "      <th>5</th>\n",
              "      <td>jair bolsonaro</td>\n",
              "      <td>[(52, 151), (48, 207), (39, 166), (13, 216), (...</td>\n",
              "    </tr>\n",
              "  </tbody>\n",
              "</table>\n",
              "</div>"
            ],
            "text/plain": [
              "                Query                                            Results\n",
              "1       novos ajustes                               [(2, 121), (2, 107)]\n",
              "2  futebol brasileiro  [(10, 115), (7, 55), (5, 50), (3, 121), (3, 76...\n",
              "3          tudo sobre  [(17, 151), (13, 6), (12, 211), (12, 69), (11,...\n",
              "4      esportes estão                                                 []\n",
              "5      jair bolsonaro  [(52, 151), (48, 207), (39, 166), (13, 216), (..."
            ]
          },
          "metadata": {
            "tags": []
          },
          "execution_count": 61
        }
      ]
    }
  ]
}