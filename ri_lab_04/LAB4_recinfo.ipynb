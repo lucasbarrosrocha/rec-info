{
  "nbformat": 4,
  "nbformat_minor": 0,
  "metadata": {
    "colab": {
      "name": "LAB4_recinfo.ipynb",
      "version": "0.3.2",
      "provenance": [],
      "collapsed_sections": []
    },
    "kernelspec": {
      "name": "python3",
      "display_name": "Python 3"
    }
  },
  "cells": [
    {
      "cell_type": "markdown",
      "metadata": {
        "id": "dE7YXAr6NaLP",
        "colab_type": "text"
      },
      "source": [
        "## Recuperação da Informação\n",
        "####Professor: Leandro Balby\n",
        "####Aluno: Lucas Barros Rocha - 115111579"
      ]
    },
    {
      "cell_type": "code",
      "metadata": {
        "id": "g76lJC4EGSrj",
        "colab_type": "code",
        "outputId": "60ee88d7-d6f8-4de0-aa05-e4e6bfcb14fb",
        "colab": {
          "base_uri": "https://localhost:8080/",
          "height": 87
        }
      },
      "source": [
        "#bibliotecas\n",
        "\n",
        "import pandas as pd\n",
        "import nltk\n",
        "from nltk.tokenize import RegexpTokenizer\n",
        "import collections\n",
        "import time\n",
        "import re\n",
        "import heapq\n",
        "\n",
        "nltk.download('stopwords')\n",
        "\n",
        "#palavras a serem desconsideradas\n",
        "tknz = RegexpTokenizer(r'(\\b[A-Za-z][a-z]{2,27}\\b)')\n",
        "stopwords = nltk.corpus.stopwords.words('portuguese')\n",
        "\n",
        "#instalação de biblioteca não nativa no colab \n",
        "!pip install memory_profiler\n"
      ],
      "execution_count": 60,
      "outputs": [
        {
          "output_type": "stream",
          "text": [
            "[nltk_data] Downloading package stopwords to /root/nltk_data...\n",
            "[nltk_data]   Package stopwords is already up-to-date!\n",
            "Requirement already satisfied: memory_profiler in /usr/local/lib/python3.6/dist-packages (0.55.0)\n",
            "Requirement already satisfied: psutil in /usr/local/lib/python3.6/dist-packages (from memory_profiler) (5.4.8)\n"
          ],
          "name": "stdout"
        }
      ]
    },
    {
      "cell_type": "markdown",
      "metadata": {
        "id": "3GIcbPaENxlM",
        "colab_type": "text"
      },
      "source": [
        "#### Importando os Dados, que são: notícias retiradas por crawler+scraper de portais de notícas online."
      ]
    },
    {
      "cell_type": "code",
      "metadata": {
        "id": "8KAoTyrjGncP",
        "colab_type": "code",
        "colab": {}
      },
      "source": [
        "result = pd.read_csv('https://raw.githubusercontent.com/lucasbarrosrocha/rec-info/master/dataframes/results.csv')"
      ],
      "execution_count": 0,
      "outputs": []
    },
    {
      "cell_type": "markdown",
      "metadata": {
        "id": "K5B_0cb8OMTD",
        "colab_type": "text"
      },
      "source": [
        "#### 1. Execute o algoritmo ilustrado na Fig. 5.8 do livro texto (pag. 157) para gerar um índice similar o mostrado na Fig. 5.4 (pag. 134). Guarde o índice em disco em formato csv.\n"
      ]
    },
    {
      "cell_type": "code",
      "metadata": {
        "id": "gRHgU4heGs6A",
        "colab_type": "code",
        "colab": {}
      },
      "source": [
        "indices = {}\n",
        "n = 0\n",
        "\n",
        "for text in result.text:\n",
        "  palavras = [palavra for palavra in tknz.tokenize(text.lower())\n",
        "           if not bool(re.search(r'\\d', palavra))\n",
        "           and palavra not in stopwords and len(palavra) >= 3]  \n",
        "  n += 1\n",
        "  for t in palavras:\n",
        "    if t not in indices.keys():\n",
        "      indices[t] = []\n",
        "    indices[t].append(n)\n",
        "    \n",
        "for elem in indices.items():\n",
        "  d = dict(collections.Counter(elem[1]))\n",
        "  indices[elem[0]] = list(d.items())"
      ],
      "execution_count": 0,
      "outputs": []
    },
    {
      "cell_type": "code",
      "metadata": {
        "id": "5cubP5KRHTyt",
        "colab_type": "code",
        "colab": {}
      },
      "source": [
        "tabela_de_tokens = pd.DataFrame()\n",
        "\n",
        "tabela_de_tokens['Palavra'] = [palavra for palavra in indices.keys()]\n",
        "tabela_de_tokens['Documentos'] = [docs for docs in indices.values()]\n",
        "\n",
        "tabela_de_tokens.to_csv('tabela.csv', encoding='utf-8', index=False)\n",
        "\n",
        "#tabela_de_tokens"
      ],
      "execution_count": 0,
      "outputs": []
    },
    {
      "cell_type": "markdown",
      "metadata": {
        "id": "3tfVrtK8Oj8m",
        "colab_type": "text"
      },
      "source": [
        "#### 2. Implemente as abordagens de processamento de consulta documento-por-vez e termo-por-vez (Fig. 5.16 e 5.18)."
      ]
    },
    {
      "cell_type": "code",
      "metadata": {
        "id": "nFon7hm0IEOr",
        "colab_type": "code",
        "colab": {}
      },
      "source": [
        "def documento_por_vez(consulta, indices, n):\n",
        "    start = time.time()\n",
        "    \n",
        "    indices_consultas = []\n",
        "    rank = []\n",
        "    \n",
        "    for palavra in consulta.split(\" \"):\n",
        "      if palavra in indices.keys():\n",
        "          indices_consultas.append(indices[palavra])\n",
        "    \n",
        "    for doc in range(1, len(result.text)+1):\n",
        "      score_d = 0\n",
        "      for indice in indices_consultas:\n",
        "          for i in indice:\n",
        "              if i[0] == doc:\n",
        "                  score_d += i[1]\n",
        "                  break\n",
        "      if score_d != 0:\n",
        "        heapq.heappush(rank, (score_d, doc))\n",
        "    \n",
        "    end = time.time() - start\n",
        "    return heapq.nlargest(k, rank), end\n",
        "  \n",
        "  \n",
        "def termo_por_vez(consulta, indices, n):\n",
        "  start = time.time()\n",
        "\n",
        "  a = {}\n",
        "  indices_consultas = []\n",
        "  rank = []\n",
        "\n",
        "  for palavra in consulta.split(\" \"):\n",
        "    if palavra in indices.keys():\n",
        "        indices_consultas.append(indices[palavra])\n",
        "\n",
        "  for indice in indices_consultas:\n",
        "    for i in indice:\n",
        "        doc = i[0]\n",
        "        if doc not in a.keys():\n",
        "            a[doc] = 0\n",
        "        a[doc] += i[1]\n",
        "\n",
        "  for (doc, score) in a.items():\n",
        "    heapq.heappush(rank, (score, doc))\n",
        "\n",
        "  end = time.time() - start\n",
        "  return heapq.nlargest(k, rank), end"
      ],
      "execution_count": 0,
      "outputs": []
    },
    {
      "cell_type": "code",
      "metadata": {
        "id": "wP1jHF5aIJfY",
        "colab_type": "code",
        "colab": {}
      },
      "source": [
        "consultas = [\"brasil\", \"governo\", \"futebol\", \"economia\", \"cultura\"]"
      ],
      "execution_count": 0,
      "outputs": []
    },
    {
      "cell_type": "code",
      "metadata": {
        "id": "dUwklsDaIL05",
        "colab_type": "code",
        "colab": {}
      },
      "source": [
        "resultados_documentos = []\n",
        "resultados_termos = []\n",
        "tempos_documentos = []\n",
        "tempos_termos = []\n",
        "\n",
        "\n",
        "n = 10\n",
        "\n",
        "for consulta in consultas:\n",
        "  score_doc, time_doc = documento_por_vez(consulta, indices, n)\n",
        "  resultados_documentos.append(score_doc)\n",
        "  tempos_documentos.append(time_doc)\n",
        "  \n",
        "  score_term, time_term = termo_por_vez(consulta, indices, n)\n",
        "  resultados_termos.append(score_term)\n",
        "  tempos_termos.append(time_term)"
      ],
      "execution_count": 0,
      "outputs": []
    },
    {
      "cell_type": "code",
      "metadata": {
        "id": "U9to4fmJIPOD",
        "colab_type": "code",
        "outputId": "d33ffefe-49e0-487c-e9a4-6aa23bb7b20d",
        "colab": {
          "base_uri": "https://localhost:8080/",
          "height": 197
        }
      },
      "source": [
        "df_consulta = pd.DataFrame()\n",
        "df_consulta['Consulta'] = consultas\n",
        "df_consulta['Documento de cada vez'] = resultados_documentos\n",
        "df_consulta['Termo de cada vez'] = resultados_termos\n",
        "df_consulta['Comparação'] = df_consulta['Documento de cada vez'] == df_consulta['Termo de cada vez']\n",
        "df_consulta.index+=1\n",
        "df_consulta"
      ],
      "execution_count": 67,
      "outputs": [
        {
          "output_type": "execute_result",
          "data": {
            "text/html": [
              "<div>\n",
              "<style scoped>\n",
              "    .dataframe tbody tr th:only-of-type {\n",
              "        vertical-align: middle;\n",
              "    }\n",
              "\n",
              "    .dataframe tbody tr th {\n",
              "        vertical-align: top;\n",
              "    }\n",
              "\n",
              "    .dataframe thead th {\n",
              "        text-align: right;\n",
              "    }\n",
              "</style>\n",
              "<table border=\"1\" class=\"dataframe\">\n",
              "  <thead>\n",
              "    <tr style=\"text-align: right;\">\n",
              "      <th></th>\n",
              "      <th>Consulta</th>\n",
              "      <th>Documento de cada vez</th>\n",
              "      <th>Termo de cada vez</th>\n",
              "      <th>Comparação</th>\n",
              "    </tr>\n",
              "  </thead>\n",
              "  <tbody>\n",
              "    <tr>\n",
              "      <th>1</th>\n",
              "      <td>brasil</td>\n",
              "      <td>[(47, 151), (15, 166), (11, 19), (10, 26), (9,...</td>\n",
              "      <td>[(47, 151), (15, 166), (11, 19), (10, 26), (9,...</td>\n",
              "      <td>True</td>\n",
              "    </tr>\n",
              "    <tr>\n",
              "      <th>2</th>\n",
              "      <td>governo</td>\n",
              "      <td>[(15, 173), (13, 166), (10, 248), (10, 115), (...</td>\n",
              "      <td>[(15, 173), (13, 166), (10, 248), (10, 115), (...</td>\n",
              "      <td>True</td>\n",
              "    </tr>\n",
              "    <tr>\n",
              "      <th>3</th>\n",
              "      <td>futebol</td>\n",
              "      <td>[(8, 242), (7, 118), (7, 47), (6, 115), (5, 21...</td>\n",
              "      <td>[(8, 242), (7, 118), (7, 47), (6, 115), (5, 21...</td>\n",
              "      <td>True</td>\n",
              "    </tr>\n",
              "    <tr>\n",
              "      <th>4</th>\n",
              "      <td>economia</td>\n",
              "      <td>[(10, 138), (8, 125), (6, 127), (6, 69), (6, 3...</td>\n",
              "      <td>[(10, 138), (8, 125), (6, 127), (6, 69), (6, 3...</td>\n",
              "      <td>True</td>\n",
              "    </tr>\n",
              "    <tr>\n",
              "      <th>5</th>\n",
              "      <td>cultura</td>\n",
              "      <td>[(10, 124), (4, 158), (3, 248), (3, 165), (2, ...</td>\n",
              "      <td>[(10, 124), (4, 158), (3, 248), (3, 165), (2, ...</td>\n",
              "      <td>True</td>\n",
              "    </tr>\n",
              "  </tbody>\n",
              "</table>\n",
              "</div>"
            ],
            "text/plain": [
              "   Consulta                              Documento de cada vez  \\\n",
              "1    brasil  [(47, 151), (15, 166), (11, 19), (10, 26), (9,...   \n",
              "2   governo  [(15, 173), (13, 166), (10, 248), (10, 115), (...   \n",
              "3   futebol  [(8, 242), (7, 118), (7, 47), (6, 115), (5, 21...   \n",
              "4  economia  [(10, 138), (8, 125), (6, 127), (6, 69), (6, 3...   \n",
              "5   cultura  [(10, 124), (4, 158), (3, 248), (3, 165), (2, ...   \n",
              "\n",
              "                                   Termo de cada vez  Comparação  \n",
              "1  [(47, 151), (15, 166), (11, 19), (10, 26), (9,...        True  \n",
              "2  [(15, 173), (13, 166), (10, 248), (10, 115), (...        True  \n",
              "3  [(8, 242), (7, 118), (7, 47), (6, 115), (5, 21...        True  \n",
              "4  [(10, 138), (8, 125), (6, 127), (6, 69), (6, 3...        True  \n",
              "5  [(10, 124), (4, 158), (3, 248), (3, 165), (2, ...        True  "
            ]
          },
          "metadata": {
            "tags": []
          },
          "execution_count": 67
        }
      ]
    },
    {
      "cell_type": "code",
      "metadata": {
        "id": "4orNYmOoIm0e",
        "colab_type": "code",
        "outputId": "590cebdc-7ed1-452c-d305-5a8e96599283",
        "colab": {
          "base_uri": "https://localhost:8080/",
          "height": 197
        }
      },
      "source": [
        "\n",
        "df_tempo_consulta = pd.DataFrame()\n",
        "df_tempo_consulta['Tempo médio: documento por vez (ms)'] = tempos_documentos\n",
        "df_tempo_consulta['Tempo médio: Termo de cada vez (ms)'] = tempos_termos\n",
        "df_tempo_consulta.index+=1\n",
        "df_tempo_consulta"
      ],
      "execution_count": 68,
      "outputs": [
        {
          "output_type": "execute_result",
          "data": {
            "text/html": [
              "<div>\n",
              "<style scoped>\n",
              "    .dataframe tbody tr th:only-of-type {\n",
              "        vertical-align: middle;\n",
              "    }\n",
              "\n",
              "    .dataframe tbody tr th {\n",
              "        vertical-align: top;\n",
              "    }\n",
              "\n",
              "    .dataframe thead th {\n",
              "        text-align: right;\n",
              "    }\n",
              "</style>\n",
              "<table border=\"1\" class=\"dataframe\">\n",
              "  <thead>\n",
              "    <tr style=\"text-align: right;\">\n",
              "      <th></th>\n",
              "      <th>Tempo médio: documento por vez (ms)</th>\n",
              "      <th>Tempo médio: Termo de cada vez (ms)</th>\n",
              "    </tr>\n",
              "  </thead>\n",
              "  <tbody>\n",
              "    <tr>\n",
              "      <th>1</th>\n",
              "      <td>0.001426</td>\n",
              "      <td>0.000074</td>\n",
              "    </tr>\n",
              "    <tr>\n",
              "      <th>2</th>\n",
              "      <td>0.001405</td>\n",
              "      <td>0.000072</td>\n",
              "    </tr>\n",
              "    <tr>\n",
              "      <th>3</th>\n",
              "      <td>0.000401</td>\n",
              "      <td>0.000017</td>\n",
              "    </tr>\n",
              "    <tr>\n",
              "      <th>4</th>\n",
              "      <td>0.000776</td>\n",
              "      <td>0.000161</td>\n",
              "    </tr>\n",
              "    <tr>\n",
              "      <th>5</th>\n",
              "      <td>0.000612</td>\n",
              "      <td>0.000018</td>\n",
              "    </tr>\n",
              "  </tbody>\n",
              "</table>\n",
              "</div>"
            ],
            "text/plain": [
              "   Tempo médio: documento por vez (ms)  Tempo médio: Termo de cada vez (ms)\n",
              "1                             0.001426                             0.000074\n",
              "2                             0.001405                             0.000072\n",
              "3                             0.000401                             0.000017\n",
              "4                             0.000776                             0.000161\n",
              "5                             0.000612                             0.000018"
            ]
          },
          "metadata": {
            "tags": []
          },
          "execution_count": 68
        }
      ]
    },
    {
      "cell_type": "code",
      "metadata": {
        "id": "DaLECkeUJIAs",
        "colab_type": "code",
        "outputId": "6fba49ca-a10a-4ad5-82ea-3e5ff323cf6a",
        "colab": {
          "base_uri": "https://localhost:8080/",
          "height": 52
        }
      },
      "source": [
        "#declarando medidor de memória\n",
        "%load_ext memory_profiler"
      ],
      "execution_count": 69,
      "outputs": [
        {
          "output_type": "stream",
          "text": [
            "The memory_profiler extension is already loaded. To reload it, use:\n",
            "  %reload_ext memory_profiler\n"
          ],
          "name": "stdout"
        }
      ]
    },
    {
      "cell_type": "markdown",
      "metadata": {
        "id": "9OO8oUJyjI2Y",
        "colab_type": "text"
      },
      "source": [
        "##### Uso da meória no Documento\n"
      ]
    },
    {
      "cell_type": "code",
      "metadata": {
        "id": "uZjoEtlEjUKA",
        "colab_type": "code",
        "colab": {
          "base_uri": "https://localhost:8080/",
          "height": 34
        },
        "outputId": "aaa288f3-9280-4228-f424-e8af061a2e40"
      },
      "source": [
        "%memit documento_por_vez(consultas[0], indices, n)"
      ],
      "execution_count": 70,
      "outputs": [
        {
          "output_type": "stream",
          "text": [
            "peak memory: 212.62 MiB, increment: 0.00 MiB\n"
          ],
          "name": "stdout"
        }
      ]
    },
    {
      "cell_type": "markdown",
      "metadata": {
        "id": "m-TitSCTjXaU",
        "colab_type": "text"
      },
      "source": [
        "##### Uso da memória no Termo"
      ]
    },
    {
      "cell_type": "code",
      "metadata": {
        "id": "IDsRKJyZjhMC",
        "colab_type": "code",
        "colab": {
          "base_uri": "https://localhost:8080/",
          "height": 34
        },
        "outputId": "5c628fbf-a2cf-4739-9bb4-262237ec2e69"
      },
      "source": [
        "%memit termo_por_vez(consultas[0], indices, n)"
      ],
      "execution_count": 71,
      "outputs": [
        {
          "output_type": "stream",
          "text": [
            "peak memory: 212.62 MiB, increment: 0.00 MiB\n"
          ],
          "name": "stdout"
        }
      ]
    },
    {
      "cell_type": "markdown",
      "metadata": {
        "id": "N6dv3T4HO1zd",
        "colab_type": "text"
      },
      "source": [
        "#### 3. Implemente uma das versões de consulta conjuntiva (AND) (Fig. 5.20 ou 5.21)."
      ]
    },
    {
      "cell_type": "code",
      "metadata": {
        "id": "mP4WvPkuJqBC",
        "colab_type": "code",
        "colab": {}
      },
      "source": [
        "def consulta_conjuntiva(consulta, indices, n):\n",
        "  \n",
        "  indices_consultas = [] # Array\n",
        "  rank = [] # HeapQueue, implementation of PriorityQueue\n",
        "  \n",
        "  for palavra in consulta.split(\" \"):\n",
        "    if palavra in indices.keys():\n",
        "        indices_consultas.append(indices[palavra])\n",
        "  \n",
        "  todos_indices = [item for sublist in indices_consultas for item in sublist]\n",
        "  todos_indices.sort() # Sorted Array of all indices from consulta terms\n",
        "  \n",
        "  for i in range(len(todos_indices)):\n",
        "    score_d = 0\n",
        "    d = todos_indices.pop()\n",
        "    r = 1\n",
        "    for indice in todos_indices:\n",
        "      if indice[0] == d[0]:\n",
        "        score_d += indice[1]\n",
        "        r += 1\n",
        "    if score_d != 0 and r == len(indices_consultas):\n",
        "      score_d += d[1]\n",
        "      heapq.heappush(rank, (score_d, d[0]))\n",
        "        \n",
        "  return heapq.nlargest(n, rank)"
      ],
      "execution_count": 0,
      "outputs": []
    },
    {
      "cell_type": "code",
      "metadata": {
        "id": "aBxkDqIlK3aq",
        "colab_type": "code",
        "colab": {}
      },
      "source": [
        "consultas_conjunta = [\"novos ajustes\", \"futebol brasileiro\", \"tudo sobre\", \"estados unidos\", \"jair bolsonaro\"]"
      ],
      "execution_count": 0,
      "outputs": []
    },
    {
      "cell_type": "code",
      "metadata": {
        "id": "kxRgjJdhK76Y",
        "colab_type": "code",
        "colab": {
          "base_uri": "https://localhost:8080/",
          "height": 197
        },
        "outputId": "1f865337-e781-4159-e319-e7da33a73711"
      },
      "source": [
        "\n",
        "n = 10\n",
        "resultados_conjuntos = []\n",
        "\n",
        "for consulta in consultas_conjunta:\n",
        "  score_conjuntos = consulta_conjuntiva(consulta, indices, n)\n",
        "  resultados_conjuntos.append(score_conjuntos)\n",
        "\n",
        "df_consultas_conjutiva = pd.DataFrame()\n",
        "df_consultas_conjutiva['Consulta'] = consultas_conjunta\n",
        "df_consultas_conjutiva['Resultados'] = resultados_conjuntos\n",
        "df_consultas_conjutiva.index+=1\n",
        "df_consultas_conjutiva"
      ],
      "execution_count": 76,
      "outputs": [
        {
          "output_type": "execute_result",
          "data": {
            "text/html": [
              "<div>\n",
              "<style scoped>\n",
              "    .dataframe tbody tr th:only-of-type {\n",
              "        vertical-align: middle;\n",
              "    }\n",
              "\n",
              "    .dataframe tbody tr th {\n",
              "        vertical-align: top;\n",
              "    }\n",
              "\n",
              "    .dataframe thead th {\n",
              "        text-align: right;\n",
              "    }\n",
              "</style>\n",
              "<table border=\"1\" class=\"dataframe\">\n",
              "  <thead>\n",
              "    <tr style=\"text-align: right;\">\n",
              "      <th></th>\n",
              "      <th>Consulta</th>\n",
              "      <th>Resultados</th>\n",
              "    </tr>\n",
              "  </thead>\n",
              "  <tbody>\n",
              "    <tr>\n",
              "      <th>1</th>\n",
              "      <td>novos ajustes</td>\n",
              "      <td>[(2, 121), (2, 107)]</td>\n",
              "    </tr>\n",
              "    <tr>\n",
              "      <th>2</th>\n",
              "      <td>futebol brasileiro</td>\n",
              "      <td>[(10, 115), (7, 55), (5, 50), (3, 121), (3, 76...</td>\n",
              "    </tr>\n",
              "    <tr>\n",
              "      <th>3</th>\n",
              "      <td>tudo sobre</td>\n",
              "      <td>[(17, 151), (13, 6), (12, 211), (12, 69), (11,...</td>\n",
              "    </tr>\n",
              "    <tr>\n",
              "      <th>4</th>\n",
              "      <td>estados unidos</td>\n",
              "      <td>[(8, 69), (8, 66), (8, 34), (6, 173), (6, 28),...</td>\n",
              "    </tr>\n",
              "    <tr>\n",
              "      <th>5</th>\n",
              "      <td>jair bolsonaro</td>\n",
              "      <td>[(52, 151), (48, 207), (39, 166), (13, 216), (...</td>\n",
              "    </tr>\n",
              "  </tbody>\n",
              "</table>\n",
              "</div>"
            ],
            "text/plain": [
              "             Consulta                                         Resultados\n",
              "1       novos ajustes                               [(2, 121), (2, 107)]\n",
              "2  futebol brasileiro  [(10, 115), (7, 55), (5, 50), (3, 121), (3, 76...\n",
              "3          tudo sobre  [(17, 151), (13, 6), (12, 211), (12, 69), (11,...\n",
              "4      estados unidos  [(8, 69), (8, 66), (8, 34), (6, 173), (6, 28),...\n",
              "5      jair bolsonaro  [(52, 151), (48, 207), (39, 166), (13, 216), (..."
            ]
          },
          "metadata": {
            "tags": []
          },
          "execution_count": 76
        }
      ]
    }
  ]
}